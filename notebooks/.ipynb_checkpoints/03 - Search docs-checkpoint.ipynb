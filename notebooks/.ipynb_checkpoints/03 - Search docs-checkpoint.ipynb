{
 "cells": [
  {
   "cell_type": "code",
   "execution_count": 1,
   "metadata": {
    "collapsed": true
   },
   "outputs": [],
   "source": [
    "import re\n",
    "import os\n",
    "import pysolr\n",
    "from datetime import datetime\n",
    "from pprint import pprint"
   ]
  },
  {
   "cell_type": "code",
   "execution_count": 2,
   "metadata": {
    "collapsed": true
   },
   "outputs": [],
   "source": [
    "# Solr collection url \n",
    "SOLR_URL = 'http://solr:8983/solr/cmp269'\n",
    "\n",
    "QUERIES_FILE_PATH = 'data/Consultas.txt'"
   ]
  },
  {
   "cell_type": "code",
   "execution_count": 3,
   "metadata": {
    "collapsed": true
   },
   "outputs": [],
   "source": [
    "def parse_doc(doc_as_string):\n",
    "    # print(doc_as_string)\n",
    "\n",
    "    doc_tpl = {\n",
    "        'num': 'num',\n",
    "        'PT-title': 'title',\n",
    "        'PT-desc': 'desc',\n",
    "        'PT-narr': 'narr',\n",
    "    }\n",
    "\n",
    "    doc = {}\n",
    "\n",
    "    for key in doc_tpl.keys():\n",
    "        # generates something like:\n",
    "        # str_pattern = \".*\\<DOCID\\>(.*)\\<\\/DOCID\\>.*\"\n",
    "        str_pattern = \".*\\<%s\\>(.*)\\<\\/%s\\>.*\" % (key, key)\n",
    "\n",
    "        # compiles pattern, capture match, updates doc\n",
    "        re_pattern = re.compile(str_pattern, re.DOTALL)\n",
    "        match = re_pattern.match(doc_as_string)\n",
    "        \n",
    "        if match:\n",
    "            value = match.group(1).strip()\n",
    "            solr_key = doc_tpl[key]\n",
    "            doc.update({solr_key: value})\n",
    "\n",
    "    # ensures we have all keys..\n",
    "    for key in doc_tpl.values():\n",
    "        assert(doc[key] is not None)\n",
    "\n",
    "    return doc\n"
   ]
  },
  {
   "cell_type": "code",
   "execution_count": 4,
   "metadata": {
    "collapsed": true
   },
   "outputs": [],
   "source": [
    "def parse_file(fpath, doc_tag):\n",
    "    '''Reads file line by line and extract the docs'''\n",
    "\n",
    "    docs = []\n",
    "    closing_doc_line = \"</%s>\\n\" % doc_tag\n",
    "    \n",
    "    with open(fpath, encoding=\"iso-8859-1\") as file:\n",
    "        doc_as_string = \"\"\n",
    "\n",
    "        line = file.readline()\n",
    "        while (line):\n",
    "            if (line) == closing_doc_line:\n",
    "                doc_as_string += line\n",
    "                \n",
    "                doc = parse_doc(doc_as_string)\n",
    "                docs.append(doc)\n",
    "\n",
    "                doc_as_string = \"\"\n",
    "            else:\n",
    "                doc_as_string += line\n",
    "\n",
    "            line = file.readline()\n",
    "\n",
    "    return docs"
   ]
  },
  {
   "cell_type": "code",
   "execution_count": 5,
   "metadata": {
    "collapsed": false
   },
   "outputs": [
    {
     "name": "stdout",
     "output_type": "stream",
     "text": [
      "Encontrados 2 resultados para a busca 'Medicina alternativa'\n",
      "FSP950315-114\n",
      "FSP950924-010\n",
      "Encontrados 0 resultados para a busca 'Sistemas de reforma e pensões na Europa'\n",
      "Encontrados 0 resultados para a busca 'Países com pena de morte'\n",
      "Encontrados 0 resultados para a busca 'Danos provocados por terramotos'\n",
      "Encontrados 0 resultados para a busca 'Viciados na Internet'\n",
      "Encontrados 0 resultados para a busca 'Doença de Creutzfeldt-Jakob'\n",
      "Encontrados 0 resultados para a busca 'Limpeza étnica nos Balcãs'\n",
      "Encontrados 0 resultados para a busca 'Legislação anti-tabagista'\n",
      "Encontrados 12 resultados para a busca 'Adivinhação'\n",
      "FSP950518-098\n",
      "FSP950521-035\n",
      "FSP950308-003\n",
      "FSP950314-124\n",
      "FSP950109-006\n",
      "FSP950221-007\n",
      "FSP950728-121\n",
      "FSP951018-148\n",
      "FSP951013-101\n",
      "FSP950915-120\n",
      "Encontrados 0 resultados para a busca 'Espectáculos de beneficiência'\n",
      "Encontrados 0 resultados para a busca 'Disputas de arbitragem no futebol'\n",
      "Encontrados 0 resultados para a busca 'Contrabando de material radioativo'\n",
      "Encontrados 0 resultados para a busca 'Aquisições do Deutsche Bank'\n",
      "Encontrados 0 resultados para a busca 'Discriminação contra os ciganos na Europa'\n",
      "Encontrados 18 resultados para a busca 'Melhor Filme Estrangeiro'\n",
      "FSP950505-103\n",
      "FSP950506-102\n",
      "FSP950516-109\n",
      "FSP950324-130\n",
      "FSP950324-131\n",
      "FSP950404-108\n",
      "FSP950314-122\n",
      "FSP950326-164\n",
      "FSP950329-137\n",
      "FSP950330-105\n",
      "Encontrados 0 resultados para a busca 'Ética e a Clonagem Humana'\n",
      "Encontrados 2 resultados para a busca 'Concorrentes da Microsoft'\n",
      "FSP951109-118\n",
      "FSP951213-164\n",
      "Encontrados 3 resultados para a busca 'Casamentos Gays'\n",
      "FSP951028-110\n",
      "FSP951001-191\n",
      "FSP951104-011\n",
      "Encontrados 0 resultados para a busca 'Biografia do presidente checo'\n",
      "Encontrados 3 resultados para a busca 'Expansão da OTAN'\n",
      "FSP950602-043\n",
      "FSP950217-078\n",
      "FSP951020-050\n",
      "Encontrados 0 resultados para a busca 'Bombas não detonadas da Segunda Guerra Mundial'\n",
      "Encontrados 1 resultados para a busca 'Doenças relacionadas ao fumo'\n",
      "FSP950430-180\n",
      "Encontrados 0 resultados para a busca 'Subsídios agrícolas da UE'\n",
      "Encontrados 0 resultados para a busca 'Eutanásia por profissionais da saúde'\n",
      "Encontrados 0 resultados para a busca 'Transporte para deficientes'\n",
      "Encontrados 2 resultados para a busca 'Crime em Nova York'\n",
      "FSP950920-076\n",
      "FSP951130-061\n",
      "Encontrados 70 resultados para a busca 'Radovan Karadzic'\n",
      "FSP950426-049\n",
      "FSP950509-052\n",
      "FSP950503-046\n",
      "FSP950513-034\n",
      "FSP950521-049\n",
      "FSP950606-050\n",
      "FSP950531-052\n",
      "FSP950602-042\n",
      "FSP950611-045\n",
      "FSP950614-066\n",
      "Encontrados 1 resultados para a busca 'Maus-tratos nas prisões'\n",
      "FSP950706-009\n",
      "Encontrados 1 resultados para a busca 'Filmes da série James Bond'\n",
      "FSP950124-107\n",
      "Encontrados 0 resultados para a busca 'Missões do vaivém espacial'\n",
      "Encontrados 0 resultados para a busca 'Movimentos anti-aborto'\n",
      "Encontrados 0 resultados para a busca 'Lesões no futebol'\n",
      "Encontrados 0 resultados para a busca 'Ações terroristas com reféns'\n",
      "Encontrados 0 resultados para a busca 'Importações de carros para os EUA'\n",
      "Encontrados 0 resultados para a busca 'Flutuação do preço do petróleo'\n",
      "Encontrados 0 resultados para a busca 'Reconstrução de cidades alemãs'\n",
      "Encontrados 0 resultados para a busca 'Relações entre a China e a Formosa'\n",
      "Encontrados 1 resultados para a busca 'Força dos furações'\n",
      "FSP950801-043\n",
      "Encontrados 7 resultados para a busca 'Centrais nucleares'\n",
      "FSP950322-079\n",
      "FSP950310-097\n",
      "FSP950109-029\n",
      "FSP950112-010\n",
      "FSP950111-055\n",
      "FSP950711-074\n",
      "FSP950820-073\n",
      "Encontrados 0 resultados para a busca 'Riscos das missões de manutenção de paz da ONU'\n",
      "Encontrados 0 resultados para a busca 'Prémios na lotaria'\n",
      "The end\n"
     ]
    }
   ],
   "source": [
    "queries = parse_file(QUERIES_FILE_PATH, 'top')\n",
    "sq = pysolr.Solr(SOLR_URL)\n",
    "\n",
    "for query in queries:\n",
    "    title = query[\"title\"]\n",
    "\n",
    "    fq = [\n",
    "        'text_txt_pt:\"%s\"' % title\n",
    "    ]\n",
    "    \n",
    "    # runs the query\n",
    "    result = sq.search(q=\"*:*\", fq=fq)\n",
    "    \n",
    "    print(\"Encontrados %d resultados para a busca '%s'\" % (result.hits, title))    \n",
    "    [ print(d[\"docno_s\"]) for d in result.docs ]\n",
    "\n",
    "    result = None\n",
    "\n",
    "print(\"The end\")"
   ]
  },
  {
   "cell_type": "code",
   "execution_count": null,
   "metadata": {
    "collapsed": true
   },
   "outputs": [],
   "source": []
  }
 ],
 "metadata": {
  "kernelspec": {
   "display_name": "Python 3",
   "language": "python",
   "name": "python3"
  },
  "language_info": {
   "codemirror_mode": {
    "name": "ipython",
    "version": 3
   },
   "file_extension": ".py",
   "mimetype": "text/x-python",
   "name": "python",
   "nbconvert_exporter": "python",
   "pygments_lexer": "ipython3",
   "version": "3.4.0"
  }
 },
 "nbformat": 4,
 "nbformat_minor": 0
}
