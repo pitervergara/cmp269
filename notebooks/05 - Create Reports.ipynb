{
 "cells": [
  {
   "cell_type": "code",
   "execution_count": 8,
   "metadata": {
    "collapsed": true
   },
   "outputs": [],
   "source": [
    "import pysolr\n",
    "import re\n",
    "import pandas as pd\n",
    "from pprint import pprint\n",
    "from tabulate import tabulate\n",
    "from IPython.display import display\n"
   ]
  },
  {
   "cell_type": "code",
   "execution_count": 9,
   "metadata": {
    "collapsed": true
   },
   "outputs": [],
   "source": [
    "# Solr collection url \n",
    "SOLR_URL = 'http://solr:8983/solr/cmp269'\n",
    "\n",
    "QUERIES_FILE_PATH = 'data/Consultas_UTF8.txt'\n",
    "\n",
    "OUTPUT_REPORTS_FOLDER = 'data'"
   ]
  },
  {
   "cell_type": "code",
   "execution_count": 10,
   "metadata": {
    "collapsed": true
   },
   "outputs": [],
   "source": [
    "def parse_file(fpath, doc_tag):\n",
    "    '''Reads file line by line and extract the docs'''\n",
    "\n",
    "    docs = []\n",
    "    closing_doc_line = \"</%s>\\n\" % doc_tag\n",
    "    \n",
    "    with open(fpath) as file:\n",
    "        doc_as_string = \"\"\n",
    "\n",
    "        line = file.readline()\n",
    "        while (line):\n",
    "            if (line) == closing_doc_line:\n",
    "                doc_as_string += line\n",
    "                \n",
    "                doc = parse_doc(doc_as_string)\n",
    "                docs.append(doc)\n",
    "\n",
    "                doc_as_string = \"\"\n",
    "            else:\n",
    "                doc_as_string += line\n",
    "\n",
    "            line = file.readline()\n",
    "\n",
    "    return docs"
   ]
  },
  {
   "cell_type": "code",
   "execution_count": 11,
   "metadata": {
    "collapsed": true
   },
   "outputs": [],
   "source": [
    "def parse_doc(doc_as_string):\n",
    "    # print(doc_as_string)\n",
    "\n",
    "    doc_tpl = {\n",
    "        'num': 'num',\n",
    "        'PT-title': 'title',\n",
    "        'PT-desc': 'desc',\n",
    "        'PT-narr': 'narr',\n",
    "    }\n",
    "\n",
    "    doc = {}\n",
    "\n",
    "    for key in doc_tpl.keys():\n",
    "        # generates something like:\n",
    "        # str_pattern = \".*\\<DOCID\\>(.*)\\<\\/DOCID\\>.*\"\n",
    "        str_pattern = \".*\\<%s\\>(.*)\\<\\/%s\\>.*\" % (key, key)\n",
    "\n",
    "        # compiles pattern, capture match, updates doc\n",
    "        re_pattern = re.compile(str_pattern, re.DOTALL)\n",
    "        match = re_pattern.match(doc_as_string)\n",
    "        \n",
    "        if match:\n",
    "            value = match.group(1).strip()\n",
    "            solr_key = doc_tpl[key]\n",
    "            doc.update({solr_key: value})\n",
    "\n",
    "    # ensures we have all keys..\n",
    "    for key in doc_tpl.values():\n",
    "        assert(doc[key] is not None)\n",
    "\n",
    "    return doc\n"
   ]
  },
  {
   "cell_type": "code",
   "execution_count": 12,
   "metadata": {
    "collapsed": false
   },
   "outputs": [
    {
     "name": "stdout",
     "output_type": "stream",
     "text": [
      "{'desc': 'Encontrar documentos sobre tratamentos que empreguem medicina '\n",
      "         'natural ou alternativa. Aqui são incluídas terapias como a '\n",
      "         'acupuntura, a hemopatia, a quiroprática, entre outras.',\n",
      " 'narr': 'Documentos relevantes devem fornecer informação, específica ou '\n",
      "         'genérica, sobre o uso de tratamentos ou técnicas de medicina '\n",
      "         'natural ou alternativa.',\n",
      " 'num': '251',\n",
      " 'title': 'Medicina alternativa'}\n"
     ]
    }
   ],
   "source": [
    "sq = pysolr.Solr(SOLR_URL)\n",
    "\n",
    "queries = parse_file(QUERIES_FILE_PATH, 'top')\n",
    "\n",
    "pprint(queries[0])"
   ]
  },
  {
   "cell_type": "code",
   "execution_count": 13,
   "metadata": {
    "collapsed": false
   },
   "outputs": [],
   "source": [
    "sq = pysolr.Solr(SOLR_URL)\n",
    "\n",
    "\n",
    "def query_solr(query_field):\n",
    "    \"\"\"Executa as queries no solr e retorna um DataFrame com os resultados\"\"\"\n",
    "    result_lines = []\n",
    "    queries = parse_file(QUERIES_FILE_PATH, 'top')\n",
    "    for q in queries:\n",
    "        title = q[\"title\"]\n",
    "        params = {\n",
    "            \"q\": title,\n",
    "            \"q.op\": \"OR\",\n",
    "            \"df\": query_field,\n",
    "            \"rows\": 100,\n",
    "            \"fl\": \"*,score\",\n",
    "            \"sort\": \"score desc\",\n",
    "        }\n",
    "\n",
    "        result = sq.search(**params)\n",
    "\n",
    "        ranking = 0\n",
    "        for doc in result.docs:\n",
    "            result_lines.append([q[\"num\"], \"Q0\", doc[\"docno_s\"], ranking, doc[\"score\"], \"Brenda_Piter\"])\n",
    "            ranking += 1\n",
    "\n",
    "    df = pd.DataFrame(data=result_lines)\n",
    "    \n",
    "    return df\n",
    "    \n",
    "\n",
    "def normalize_results(df):\n",
    "    \"\"\"Normaliza os resultados entre 0 e 1\"\"\"\n",
    "    grouped = df.groupby(0)  # Separa em grupos cada query (Coluna 0 é o número da query)\n",
    "\n",
    "    new_df = pd.DataFrame()\n",
    "    for name, group in grouped:\n",
    "        # Em cada grupo, divide o score da linha pelo maior score do grupo\n",
    "        group.loc[:,4] = group.loc[:,4].apply(lambda x: x/group[4].max())\n",
    "        aux = pd.concat([new_df, group])\n",
    "        new_df = aux\n",
    "        \n",
    "    return new_df\n",
    "\n",
    "\n",
    "def to_fwf(df, fname):\n",
    "    # Pra exportar um DataFrame pra um txt com colunas de tamanho fixo\n",
    "    # https://stackoverflow.com/a/35974742/3284017\n",
    "    content = tabulate(df.values.tolist(), tablefmt=\"plain\")\n",
    "    open(fname, \"w\").write(content)\n",
    "\n",
    "pd.DataFrame.to_fwf = to_fwf\n",
    "\n",
    "\n",
    "def generate_report(query_field):\n",
    "    \n",
    "    df = query_solr(query_field)\n",
    "    df = normalize_results(df)\n",
    "    \n",
    "    # Salva o arquivo\n",
    "    fname = \"%s/respostas_campo_%s.txt\" % (OUTPUT_REPORTS_FOLDER, query_field)\n",
    "    df.to_fwf(fname)\n",
    "    \n",
    "    display(df.head())\n",
    "    print(\"Criado arquivo %s\" % fname)\n"
   ]
  },
  {
   "cell_type": "code",
   "execution_count": 14,
   "metadata": {
    "collapsed": false
   },
   "outputs": [
    {
     "data": {
      "text/html": [
       "<div>\n",
       "<table border=\"1\" class=\"dataframe\">\n",
       "  <thead>\n",
       "    <tr style=\"text-align: right;\">\n",
       "      <th></th>\n",
       "      <th>0</th>\n",
       "      <th>1</th>\n",
       "      <th>2</th>\n",
       "      <th>3</th>\n",
       "      <th>4</th>\n",
       "      <th>5</th>\n",
       "    </tr>\n",
       "  </thead>\n",
       "  <tbody>\n",
       "    <tr>\n",
       "      <th>0</th>\n",
       "      <td>251</td>\n",
       "      <td>Q0</td>\n",
       "      <td>FSP950315-114</td>\n",
       "      <td>0</td>\n",
       "      <td>1.000000</td>\n",
       "      <td>Brenda_Piter</td>\n",
       "    </tr>\n",
       "    <tr>\n",
       "      <th>1</th>\n",
       "      <td>251</td>\n",
       "      <td>Q0</td>\n",
       "      <td>FSP950426-099</td>\n",
       "      <td>1</td>\n",
       "      <td>0.804281</td>\n",
       "      <td>Brenda_Piter</td>\n",
       "    </tr>\n",
       "    <tr>\n",
       "      <th>2</th>\n",
       "      <td>251</td>\n",
       "      <td>Q0</td>\n",
       "      <td>FSP950720-079</td>\n",
       "      <td>2</td>\n",
       "      <td>0.798148</td>\n",
       "      <td>Brenda_Piter</td>\n",
       "    </tr>\n",
       "    <tr>\n",
       "      <th>3</th>\n",
       "      <td>251</td>\n",
       "      <td>Q0</td>\n",
       "      <td>FSP950527-009</td>\n",
       "      <td>3</td>\n",
       "      <td>0.751702</td>\n",
       "      <td>Brenda_Piter</td>\n",
       "    </tr>\n",
       "    <tr>\n",
       "      <th>4</th>\n",
       "      <td>251</td>\n",
       "      <td>Q0</td>\n",
       "      <td>FSP951121-104</td>\n",
       "      <td>4</td>\n",
       "      <td>0.750709</td>\n",
       "      <td>Brenda_Piter</td>\n",
       "    </tr>\n",
       "  </tbody>\n",
       "</table>\n",
       "</div>"
      ],
      "text/plain": [
       "     0   1              2  3         4             5\n",
       "0  251  Q0  FSP950315-114  0  1.000000  Brenda_Piter\n",
       "1  251  Q0  FSP950426-099  1  0.804281  Brenda_Piter\n",
       "2  251  Q0  FSP950720-079  2  0.798148  Brenda_Piter\n",
       "3  251  Q0  FSP950527-009  3  0.751702  Brenda_Piter\n",
       "4  251  Q0  FSP951121-104  4  0.750709  Brenda_Piter"
      ]
     },
     "metadata": {},
     "output_type": "display_data"
    },
    {
     "name": "stdout",
     "output_type": "stream",
     "text": [
      "Criado arquivo data/respostas_campo_text_txt_c1.txt\n"
     ]
    },
    {
     "data": {
      "text/html": [
       "<div>\n",
       "<table border=\"1\" class=\"dataframe\">\n",
       "  <thead>\n",
       "    <tr style=\"text-align: right;\">\n",
       "      <th></th>\n",
       "      <th>0</th>\n",
       "      <th>1</th>\n",
       "      <th>2</th>\n",
       "      <th>3</th>\n",
       "      <th>4</th>\n",
       "      <th>5</th>\n",
       "    </tr>\n",
       "  </thead>\n",
       "  <tbody>\n",
       "    <tr>\n",
       "      <th>0</th>\n",
       "      <td>251</td>\n",
       "      <td>Q0</td>\n",
       "      <td>FSP950315-114</td>\n",
       "      <td>0</td>\n",
       "      <td>1.000000</td>\n",
       "      <td>Brenda_Piter</td>\n",
       "    </tr>\n",
       "    <tr>\n",
       "      <th>1</th>\n",
       "      <td>251</td>\n",
       "      <td>Q0</td>\n",
       "      <td>FSP950409-099</td>\n",
       "      <td>1</td>\n",
       "      <td>0.824287</td>\n",
       "      <td>Brenda_Piter</td>\n",
       "    </tr>\n",
       "    <tr>\n",
       "      <th>2</th>\n",
       "      <td>251</td>\n",
       "      <td>Q0</td>\n",
       "      <td>FSP951111-086</td>\n",
       "      <td>2</td>\n",
       "      <td>0.778781</td>\n",
       "      <td>Brenda_Piter</td>\n",
       "    </tr>\n",
       "    <tr>\n",
       "      <th>3</th>\n",
       "      <td>251</td>\n",
       "      <td>Q0</td>\n",
       "      <td>FSP950828-098</td>\n",
       "      <td>3</td>\n",
       "      <td>0.746205</td>\n",
       "      <td>Brenda_Piter</td>\n",
       "    </tr>\n",
       "    <tr>\n",
       "      <th>4</th>\n",
       "      <td>251</td>\n",
       "      <td>Q0</td>\n",
       "      <td>FSP950303-004</td>\n",
       "      <td>4</td>\n",
       "      <td>0.726719</td>\n",
       "      <td>Brenda_Piter</td>\n",
       "    </tr>\n",
       "  </tbody>\n",
       "</table>\n",
       "</div>"
      ],
      "text/plain": [
       "     0   1              2  3         4             5\n",
       "0  251  Q0  FSP950315-114  0  1.000000  Brenda_Piter\n",
       "1  251  Q0  FSP950409-099  1  0.824287  Brenda_Piter\n",
       "2  251  Q0  FSP951111-086  2  0.778781  Brenda_Piter\n",
       "3  251  Q0  FSP950828-098  3  0.746205  Brenda_Piter\n",
       "4  251  Q0  FSP950303-004  4  0.726719  Brenda_Piter"
      ]
     },
     "metadata": {},
     "output_type": "display_data"
    },
    {
     "name": "stdout",
     "output_type": "stream",
     "text": [
      "Criado arquivo data/respostas_campo_text_txt_c4.txt\n"
     ]
    }
   ],
   "source": [
    "generate_report(\"text_txt_c1\")\n",
    "generate_report(\"text_txt_c4\")"
   ]
  },
  {
   "cell_type": "code",
   "execution_count": null,
   "metadata": {
    "collapsed": true
   },
   "outputs": [],
   "source": []
  }
 ],
 "metadata": {
  "kernelspec": {
   "display_name": "Python 3",
   "language": "python",
   "name": "python3"
  },
  "language_info": {
   "codemirror_mode": {
    "name": "ipython",
    "version": 3
   },
   "file_extension": ".py",
   "mimetype": "text/x-python",
   "name": "python",
   "nbconvert_exporter": "python",
   "pygments_lexer": "ipython3",
   "version": "3.4.0"
  }
 },
 "nbformat": 4,
 "nbformat_minor": 0
}
