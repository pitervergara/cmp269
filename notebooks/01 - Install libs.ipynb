{
 "cells": [
  {
   "cell_type": "code",
   "execution_count": 2,
   "metadata": {
    "collapsed": false
   },
   "outputs": [
    {
     "name": "stdout",
     "output_type": "stream",
     "text": [
      "Requirement already up-to-date: pip in /usr/local/lib/python3.4/dist-packages\n",
      "Requirement already satisfied: pysolr in /usr/local/lib/python3.4/dist-packages\n",
      "Collecting tabulate\n",
      "  Downloading tabulate-0.8.2.tar.gz (45kB)\n",
      "\u001b[K    100% |████████████████████████████████| 51kB 423kB/s \n",
      "\u001b[?25hRequirement already satisfied: requests>=2.9.1 in /usr/local/lib/python3.4/dist-packages (from pysolr)\n",
      "Requirement already satisfied: chardet<3.1.0,>=3.0.2 in /usr/local/lib/python3.4/dist-packages (from requests>=2.9.1->pysolr)\n",
      "Requirement already satisfied: idna<2.7,>=2.5 in /usr/local/lib/python3.4/dist-packages (from requests>=2.9.1->pysolr)\n",
      "Requirement already satisfied: certifi>=2017.4.17 in /usr/local/lib/python3.4/dist-packages (from requests>=2.9.1->pysolr)\n",
      "Requirement already satisfied: urllib3<1.23,>=1.21.1 in /usr/local/lib/python3.4/dist-packages (from requests>=2.9.1->pysolr)\n",
      "Building wheels for collected packages: tabulate\n",
      "  Running setup.py bdist_wheel for tabulate ... \u001b[?25l-\b \b\\\b \bdone\n",
      "\u001b[?25h  Stored in directory: /root/.cache/pip/wheels/7c/fc/c4/f89c90e8bb6a0052a4ad4a9bc30a61429fea5d3439c63e2efd\n",
      "Successfully built tabulate\n",
      "Installing collected packages: tabulate\n",
      "Successfully installed tabulate-0.8.2\n"
     ]
    }
   ],
   "source": [
    "!pip install --upgrade pip && \\\n",
    "    pip install pysolr tabulate"
   ]
  },
  {
   "cell_type": "code",
   "execution_count": null,
   "metadata": {
    "collapsed": true
   },
   "outputs": [],
   "source": []
  }
 ],
 "metadata": {
  "kernelspec": {
   "display_name": "Python 3",
   "language": "python",
   "name": "python3"
  },
  "language_info": {
   "codemirror_mode": {
    "name": "ipython",
    "version": 3
   },
   "file_extension": ".py",
   "mimetype": "text/x-python",
   "name": "python",
   "nbconvert_exporter": "python",
   "pygments_lexer": "ipython3",
   "version": "3.4.0"
  }
 },
 "nbformat": 4,
 "nbformat_minor": 0
}
