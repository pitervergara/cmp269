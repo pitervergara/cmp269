{
 "cells": [
  {
   "cell_type": "code",
   "execution_count": 1,
   "metadata": {
    "collapsed": false
   },
   "outputs": [
    {
     "name": "stdout",
     "output_type": "stream",
     "text": [
      "\u001b[33mYou are using pip version 7.1.0, however version 9.0.3 is available.\n",
      "You should consider upgrading via the 'pip install --upgrade pip' command.\u001b[0m\n",
      "Collecting pip\n",
      "  Downloading pip-9.0.3-py2.py3-none-any.whl (1.4MB)\n",
      "\u001b[K    100% |████████████████████████████████| 1.4MB 370kB/s \n",
      "\u001b[?25hInstalling collected packages: pip\n",
      "  Found existing installation: pip 7.1.0\n",
      "    Uninstalling pip-7.1.0:\n",
      "      Successfully uninstalled pip-7.1.0\n",
      "Successfully installed pip-9.0.3\n",
      "Collecting pysolr\n",
      "  Downloading pysolr-3.7.0.tar.gz (44kB)\n",
      "\u001b[K    100% |████████████████████████████████| 51kB 466kB/s \n",
      "\u001b[?25hCollecting tabulate\n",
      "  Downloading tabulate-0.8.2.tar.gz (45kB)\n",
      "\u001b[K    100% |████████████████████████████████| 51kB 1.7MB/s \n",
      "\u001b[?25hCollecting requests>=2.9.1 (from pysolr)\n",
      "  Downloading requests-2.18.4-py2.py3-none-any.whl (88kB)\n",
      "\u001b[K    100% |████████████████████████████████| 92kB 1.1MB/s \n",
      "\u001b[?25hCollecting urllib3<1.23,>=1.21.1 (from requests>=2.9.1->pysolr)\n",
      "  Downloading urllib3-1.22-py2.py3-none-any.whl (132kB)\n",
      "\u001b[K    100% |████████████████████████████████| 133kB 2.9MB/s \n",
      "\u001b[?25hCollecting chardet<3.1.0,>=3.0.2 (from requests>=2.9.1->pysolr)\n",
      "  Downloading chardet-3.0.4-py2.py3-none-any.whl (133kB)\n",
      "\u001b[K    100% |████████████████████████████████| 143kB 2.9MB/s \n",
      "\u001b[?25hCollecting certifi>=2017.4.17 (from requests>=2.9.1->pysolr)\n",
      "  Downloading certifi-2018.1.18-py2.py3-none-any.whl (151kB)\n",
      "\u001b[K    100% |████████████████████████████████| 153kB 3.1MB/s \n",
      "\u001b[?25hCollecting idna<2.7,>=2.5 (from requests>=2.9.1->pysolr)\n",
      "  Downloading idna-2.6-py2.py3-none-any.whl (56kB)\n",
      "\u001b[K    100% |████████████████████████████████| 61kB 3.4MB/s \n",
      "\u001b[?25hBuilding wheels for collected packages: pysolr, tabulate\n",
      "  Running setup.py bdist_wheel for pysolr ... \u001b[?25l-\b \bdone\n",
      "\u001b[?25h  Stored in directory: /root/.cache/pip/wheels/9a/da/43/dddb8a3089b1d74b183f1ff7244fc6e528289fd6b8e06e083f\n",
      "  Running setup.py bdist_wheel for tabulate ... \u001b[?25l-\b \bdone\n",
      "\u001b[?25h  Stored in directory: /root/.cache/pip/wheels/7c/fc/c4/f89c90e8bb6a0052a4ad4a9bc30a61429fea5d3439c63e2efd\n",
      "Successfully built pysolr tabulate\n",
      "Installing collected packages: urllib3, chardet, certifi, idna, requests, pysolr, tabulate\n",
      "  Found existing installation: urllib3 1.7.1\n",
      "\u001b[31m    DEPRECATION: Uninstalling a distutils installed project (urllib3) has been deprecated and will be removed in a future version. This is due to the fact that uninstalling a distutils project will only partially uninstall the project.\u001b[0m\n",
      "    Uninstalling urllib3-1.7.1:\n",
      "      Successfully uninstalled urllib3-1.7.1\n",
      "  Found existing installation: chardet 2.2.1\n",
      "    Uninstalling chardet-2.2.1:\n",
      "      Successfully uninstalled chardet-2.2.1\n",
      "  Found existing installation: requests 2.2.1\n",
      "\u001b[31m    DEPRECATION: Uninstalling a distutils installed project (requests) has been deprecated and will be removed in a future version. This is due to the fact that uninstalling a distutils project will only partially uninstall the project.\u001b[0m\n",
      "    Uninstalling requests-2.2.1:\n",
      "      Successfully uninstalled requests-2.2.1\n",
      "Successfully installed certifi-2018.1.18 chardet-3.0.4 idna-2.6 pysolr-3.7.0 requests-2.18.4 tabulate-0.8.2 urllib3-1.22\n"
     ]
    }
   ],
   "source": [
    "!pip install --upgrade pip && \\\n",
    "    pip install pysolr tabulate"
   ]
  },
  {
   "cell_type": "code",
   "execution_count": null,
   "metadata": {
    "collapsed": true
   },
   "outputs": [],
   "source": []
  }
 ],
 "metadata": {
  "kernelspec": {
   "display_name": "Python 3",
   "language": "python",
   "name": "python3"
  },
  "language_info": {
   "codemirror_mode": {
    "name": "ipython",
    "version": 3
   },
   "file_extension": ".py",
   "mimetype": "text/x-python",
   "name": "python",
   "nbconvert_exporter": "python",
   "pygments_lexer": "ipython3",
   "version": "3.4.0"
  }
 },
 "nbformat": 4,
 "nbformat_minor": 0
}
