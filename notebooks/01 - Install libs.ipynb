{
 "cells": [
  {
   "cell_type": "code",
   "execution_count": 1,
   "metadata": {
    "collapsed": false
   },
   "outputs": [
    {
     "name": "stdout",
     "output_type": "stream",
     "text": [
      "\u001b[33mYou are using pip version 7.1.0, however version 10.0.0 is available.\n",
      "You should consider upgrading via the 'pip install --upgrade pip' command.\u001b[0m\n",
      "Collecting setuptools\n",
      "  Downloading https://files.pythonhosted.org/packages/20/d7/04a0b689d3035143e2ff288f4b9ee4bf6ed80585cc121c90bfd85a1a8c2e/setuptools-39.0.1-py2.py3-none-any.whl (569kB)\n",
      "\u001b[K    100% |████████████████████████████████| 573kB 903kB/s \n",
      "\u001b[?25hInstalling collected packages: setuptools\n",
      "  Found existing installation: setuptools 3.3\n",
      "    Uninstalling setuptools-3.3:\n",
      "      Successfully uninstalled setuptools-3.3\n",
      "Successfully installed setuptools-39.0.1\n",
      "\u001b[33mYou are using pip version 7.1.0, however version 10.0.0 is available.\n",
      "You should consider upgrading via the 'pip install --upgrade pip' command.\u001b[0m\n",
      "Collecting pysolr\n",
      "  Downloading https://files.pythonhosted.org/packages/e3/1c/7bfb08984d74b11ec4e390660304c67a5275d59d166cb15ad528334b2044/pysolr-3.7.0.tar.gz (44kB)\n",
      "\u001b[K    100% |████████████████████████████████| 45kB 841kB/s \n",
      "\u001b[?25hCollecting tabulate\n",
      "  Downloading https://files.pythonhosted.org/packages/12/c2/11d6845db5edf1295bc08b2f488cf5937806586afe42936c3f34c097ebdc/tabulate-0.8.2.tar.gz (45kB)\n",
      "\u001b[K    100% |████████████████████████████████| 49kB 1.9MB/s \n",
      "\u001b[?25hCollecting requests>=2.9.1 (from pysolr)\n",
      "  Downloading https://files.pythonhosted.org/packages/49/df/50aa1999ab9bde74656c2919d9c0c085fd2b3775fd3eca826012bef76d8c/requests-2.18.4-py2.py3-none-any.whl (88kB)\n",
      "\u001b[K    100% |████████████████████████████████| 90kB 1.7MB/s \n",
      "\u001b[?25hCollecting chardet<3.1.0,>=3.0.2 (from requests>=2.9.1->pysolr)\n",
      "  Downloading https://files.pythonhosted.org/packages/bc/a9/01ffebfb562e4274b6487b4bb1ddec7ca55ec7510b22e4c51f14098443b8/chardet-3.0.4-py2.py3-none-any.whl (133kB)\n",
      "\u001b[K    100% |████████████████████████████████| 135kB 1.3MB/s \n",
      "\u001b[?25hCollecting certifi>=2017.4.17 (from requests>=2.9.1->pysolr)\n",
      "  Downloading https://files.pythonhosted.org/packages/fa/53/0a5562e2b96749e99a3d55d8c7df91c9e4d8c39a9da1f1a49ac9e4f4b39f/certifi-2018.1.18-py2.py3-none-any.whl (151kB)\n",
      "\u001b[K    100% |████████████████████████████████| 155kB 2.0MB/s \n",
      "\u001b[?25hCollecting idna<2.7,>=2.5 (from requests>=2.9.1->pysolr)\n",
      "  Downloading https://files.pythonhosted.org/packages/27/cc/6dd9a3869f15c2edfab863b992838277279ce92663d334df9ecf5106f5c6/idna-2.6-py2.py3-none-any.whl (56kB)\n",
      "\u001b[K    100% |████████████████████████████████| 57kB 2.8MB/s \n",
      "\u001b[?25hCollecting urllib3<1.23,>=1.21.1 (from requests>=2.9.1->pysolr)\n",
      "  Downloading https://files.pythonhosted.org/packages/63/cb/6965947c13a94236f6d4b8223e21beb4d576dc72e8130bd7880f600839b8/urllib3-1.22-py2.py3-none-any.whl (132kB)\n",
      "\u001b[K    100% |████████████████████████████████| 135kB 1.9MB/s \n",
      "\u001b[?25hBuilding wheels for collected packages: pysolr, tabulate\n",
      "  Running setup.py bdist_wheel for pysolr\n",
      "  Stored in directory: /root/.cache/pip/wheels/8d/fb/37/8d2e579f4ac9e835168248ae71d9b6422d06690ff48cd15a82\n",
      "  Running setup.py bdist_wheel for tabulate\n",
      "  Stored in directory: /root/.cache/pip/wheels/2a/85/33/2f6da85d5f10614cbe5a625eab3b3aebfdf43e7b857f25f829\n",
      "Successfully built pysolr tabulate\n",
      "Installing collected packages: chardet, certifi, idna, urllib3, requests, pysolr, tabulate\n",
      "  Found existing installation: chardet 2.2.1\n",
      "    Uninstalling chardet-2.2.1:\n",
      "      Successfully uninstalled chardet-2.2.1\n",
      "  Found existing installation: urllib3 1.7.1\n",
      "\u001b[33m    DEPRECATION: Uninstalling a distutils installed project (urllib3) has been deprecated and will be removed in a future version. This is due to the fact that uninstalling a distutils project will only partially uninstall the project.\u001b[0m\n",
      "    Uninstalling urllib3-1.7.1:\n",
      "      Successfully uninstalled urllib3-1.7.1\n",
      "  Found existing installation: requests 2.2.1\n",
      "\u001b[33m    DEPRECATION: Uninstalling a distutils installed project (requests) has been deprecated and will be removed in a future version. This is due to the fact that uninstalling a distutils project will only partially uninstall the project.\u001b[0m\n",
      "    Uninstalling requests-2.2.1:\n",
      "      Successfully uninstalled requests-2.2.1\n",
      "Successfully installed certifi-2018.1.18 chardet-3.0.4 idna-2.6 pysolr-3.7.0 requests-2.18.4 tabulate-0.8.2 urllib3-1.22\n"
     ]
    }
   ],
   "source": [
    "!pip install --upgrade setuptools && \\\n",
    "    pip install pysolr tabulate"
   ]
  },
  {
   "cell_type": "code",
   "execution_count": null,
   "metadata": {
    "collapsed": true
   },
   "outputs": [],
   "source": []
  }
 ],
 "metadata": {
  "kernelspec": {
   "display_name": "Python 3",
   "language": "python",
   "name": "python3"
  },
  "language_info": {
   "codemirror_mode": {
    "name": "ipython",
    "version": 3
   },
   "file_extension": ".py",
   "mimetype": "text/x-python",
   "name": "python",
   "nbconvert_exporter": "python",
   "pygments_lexer": "ipython3",
   "version": "3.4.0"
  }
 },
 "nbformat": 4,
 "nbformat_minor": 0
}
