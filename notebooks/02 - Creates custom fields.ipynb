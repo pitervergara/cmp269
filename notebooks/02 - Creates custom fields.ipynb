{
 "cells": [
  {
   "cell_type": "code",
   "execution_count": 95,
   "metadata": {
    "collapsed": false
   },
   "outputs": [],
   "source": [
    "import pysolr\n",
    "import requests\n",
    "import json\n",
    "from pprint import pprint\n",
    "from IPython.display import display, display_html"
   ]
  },
  {
   "cell_type": "code",
   "execution_count": 96,
   "metadata": {
    "collapsed": true
   },
   "outputs": [],
   "source": [
    "# Solr collection url \n",
    "SOLR_URL = 'http://solr:8983/solr/cmp269'\n",
    "\n",
    "SOLR_SCHEMA_URL = \"%s/%s\" % (SOLR_URL, 'schema') \n",
    "\n",
    "FIELD_TYPES_LIST_URL = \"%s/%s\" % (SOLR_SCHEMA_URL, 'fieldtypes')\n",
    "DYNAMIC_FIELDS_LIST_URL = \"%s/%s\" % (SOLR_SCHEMA_URL, 'dynamicfields')"
   ]
  },
  {
   "cell_type": "markdown",
   "metadata": {},
   "source": [
    "## Define algumas funções para criar tipos e campos no Solr, via API\n",
    "As funções abaixo são usadas para obter a lista de _tipos de campos_ e de _campos dinâmicos_ atualmente existentes no schema da coleção e também para criar tipos quando não existirem. Sempre que um novo tipo é criado, se não há um campo dinâmico para aquele tipo o campo também é criado."
   ]
  },
  {
   "cell_type": "code",
   "execution_count": 97,
   "metadata": {
    "collapsed": false
   },
   "outputs": [],
   "source": [
    "def get_current_types():\n",
    "    response = requests.get(FIELD_TYPES_LIST_URL)\n",
    "    if response.status_code != requests.codes.ok:\n",
    "        raise Exception(\"Falha ao identificar os tipos de campos existentes no schema\")\n",
    "\n",
    "    current_field_types = response.json()[\"fieldTypes\"]\n",
    "    \n",
    "    return current_field_types\n",
    "\n",
    "def get_current_fields():\n",
    "    response = requests.get(DYNAMIC_FIELDS_LIST_URL)\n",
    "    if response.status_code != requests.codes.ok:\n",
    "        raise Exception(\"Falha ao identificar os tipos dinâmicos existentes no schema\")\n",
    "\n",
    "    current_fields = response.json()[\"dynamicFields\"]\n",
    "    \n",
    "    return current_fields\n",
    "\n",
    "def create_dynamic_field_for_type(ftype_name):\n",
    "    \n",
    "    sufix = ftype_name.split(\"_\")[-1]\n",
    "    fname = \"*_txt_%s\" % sufix\n",
    "    \n",
    "    current_fields = get_current_fields()\n",
    "    for field in current_fields:\n",
    "        if field[\"name\"] == fname:\n",
    "            print(\"Campo '%s' já existe. Ignorando..\" % fname)\n",
    "            print(\"\")\n",
    "            print(\"Definição atual do campo é:\")\n",
    "            pprint(field)\n",
    "            print(\"\")\n",
    "            return False\n",
    "    \n",
    "    \n",
    "    field_def =  {\n",
    "        \"add-dynamic-field\":{\n",
    "            \"name\": fname,\n",
    "            \"type\": ftype_name,\n",
    "            \"stored\": True \n",
    "        }  \n",
    "    }\n",
    "    \n",
    "    field_def_json = json.dumps(field_def)\n",
    "\n",
    "    headers = { \n",
    "        \"Content-type\": \"application/json\"\n",
    "    }\n",
    "    \n",
    "    response = requests.post(SOLR_SCHEMA_URL, data=field_def_json, headers=headers)\n",
    "    \n",
    "    \n",
    "    return response.status_code == requests.codes.ok\n",
    "    \n",
    "    \n",
    "def create_field_type(type_def):\n",
    "    \"\"\"Cria um campo cuja definção é descrita no argumento 'type_def'\n",
    "        \n",
    "        O argumento é 'inspecionado' para se obter o nome do tipo, então a \n",
    "        existência do tipo é verificada antes da criação.\n",
    "        \n",
    "        Se o tipo for criado, a função que cria campos dinâmicos é invocada.\n",
    "    \"\"\"\n",
    "    current_field_types = get_current_types()\n",
    "    \n",
    "    ftype_name = type_def[\"add-field-type\"][\"name\"]\n",
    "    sufix = ftype_name.split(\"_\")[-1]\n",
    "    ftype = \"text_%s\" % sufix\n",
    "    \n",
    "    for ftype in current_field_types:\n",
    "        if ftype[\"name\"] == ftype_name:\n",
    "            print(\"Tipo %s já existe. Ignorando..\" % ftype_name)\n",
    "            print(\"\")\n",
    "            print(\"Definição atual do tipo é:\")\n",
    "            pprint(ftype)\n",
    "            print(\"\")\n",
    "            return create_dynamic_field_for_type(ftype_name)\n",
    "        \n",
    "    type_def_json = json.dumps(type_def)\n",
    "    headers = { \n",
    "        \"Content-type\": \"application/json\"\n",
    "    }\n",
    "\n",
    "    # Creates the field type\n",
    "    response = requests.post(SOLR_SCHEMA_URL, data=type_def_json, headers=headers)\n",
    "       \n",
    "    if response.status_code == requests.codes.ok:\n",
    "        return create_dynamic_field_for_type(ftype_name)\n",
    "    else:\n",
    "        raise Exception(response.text)\n"
   ]
  },
  {
   "cell_type": "markdown",
   "metadata": {},
   "source": [
    "## Cria o campo tipo de campo text_c1 (c1 é de 'Customizado 1'...)\n",
    "Esse campo apenas vai usar o [Standard Tokenizer](https://lucene.apache.org/solr/guide/6_6/tokenizers.html#Tokenizers-StandardTokenizer)"
   ]
  },
  {
   "cell_type": "code",
   "execution_count": 98,
   "metadata": {
    "collapsed": false
   },
   "outputs": [
    {
     "name": "stdout",
     "output_type": "stream",
     "text": [
      "Tipo text_c1 já existe. Ignorando..\n",
      "\n",
      "Definição atual do tipo é:\n",
      "{'analyzer': {'tokenizer': {'class': 'solr.StandardTokenizerFactory'}},\n",
      " 'class': 'solr.TextField',\n",
      " 'name': 'text_c1',\n",
      " 'positionIncrementGap': '100'}\n",
      "\n",
      "Campo '*_txt_c1' já existe. Ignorando..\n",
      "\n",
      "Definição atual do campo é:\n",
      "{'name': '*_txt_c1', 'stored': True, 'type': 'text_c1'}\n",
      "\n"
     ]
    },
    {
     "data": {
      "text/plain": [
       "False"
      ]
     },
     "execution_count": 98,
     "metadata": {},
     "output_type": "execute_result"
    }
   ],
   "source": [
    "# Custom Field Type 1\n",
    "field_type_def1 = {\n",
    "    \"add-field-type\" : {\n",
    "        \"name\": \"text_c1\",\n",
    "        \"class\": \"solr.TextField\",\n",
    "        \"positionIncrementGap\": \"100\",\n",
    "        \"analyzer\" : {\n",
    "            \"tokenizer\": {\n",
    "                \"class\": \"solr.StandardTokenizerFactory\"\n",
    "            },\n",
    "            \"filters\": []\n",
    "        }\n",
    "    }\n",
    "}\n",
    "\n",
    "create_field_type(field_type_def1)\n"
   ]
  },
  {
   "cell_type": "markdown",
   "metadata": {},
   "source": [
    "## Cria o tipo de campo text_c2.\n",
    "Além do Standard Tokenizer, ele usará o [Lower Case Filter](https://lucene.apache.org/solr/guide/7_2/filter-descriptions.html#FilterDescriptions-LowerCaseFilter)."
   ]
  },
  {
   "cell_type": "code",
   "execution_count": 99,
   "metadata": {
    "collapsed": false
   },
   "outputs": [
    {
     "name": "stdout",
     "output_type": "stream",
     "text": [
      "Tipo text_c2 já existe. Ignorando..\n",
      "\n",
      "Definição atual do tipo é:\n",
      "{'analyzer': {'filters': [{'class': 'solr.LowerCaseFilterFactory'}],\n",
      "              'tokenizer': {'class': 'solr.StandardTokenizerFactory'}},\n",
      " 'class': 'solr.TextField',\n",
      " 'name': 'text_c2',\n",
      " 'positionIncrementGap': '100'}\n",
      "\n",
      "Campo '*_txt_c2' já existe. Ignorando..\n",
      "\n",
      "Definição atual do campo é:\n",
      "{'name': '*_txt_c2', 'stored': True, 'type': 'text_c2'}\n",
      "\n"
     ]
    },
    {
     "data": {
      "text/plain": [
       "False"
      ]
     },
     "execution_count": 99,
     "metadata": {},
     "output_type": "execute_result"
    }
   ],
   "source": [
    "# Copies the previous field\n",
    "field_type_def2 = field_type_def1.copy()\n",
    "\n",
    "# Changes what should be different\n",
    "field_type_def2[\"add-field-type\"][\"name\"] = \"text_c2\"\n",
    "field_type_def2[\"add-field-type\"][\"analyzer\"][\"filters\"].append({\n",
    "    \"class\": \"solr.LowerCaseFilterFactory\"\n",
    "})\n",
    "\n",
    "# creates the new type and field\n",
    "create_field_type(field_type_def2)"
   ]
  },
  {
   "cell_type": "markdown",
   "metadata": {},
   "source": [
    "## Cria o tipo de campo text_c3\n",
    "Esse tipo além do Standard Tokenizer e do Lower Case Filter, faz remoção de stop words, no idioma portugês do Brasil, usando [StopFilterFactory](https://lucene.apache.org/solr/guide/7_2/filter-descriptions.html#stop-filter)"
   ]
  },
  {
   "cell_type": "code",
   "execution_count": 100,
   "metadata": {
    "collapsed": false
   },
   "outputs": [
    {
     "name": "stdout",
     "output_type": "stream",
     "text": [
      "Tipo text_c3 já existe. Ignorando..\n",
      "\n",
      "Definição atual do tipo é:\n",
      "{'analyzer': {'filters': [{'class': 'solr.LowerCaseFilterFactory'},\n",
      "                          {'class': 'solr.StopFilterFactory',\n",
      "                           'format': 'snowball',\n",
      "                           'ignoreCase': 'true',\n",
      "                           'words': 'lang/stopwords_pt.txt'}],\n",
      "              'tokenizer': {'class': 'solr.StandardTokenizerFactory'}},\n",
      " 'class': 'solr.TextField',\n",
      " 'name': 'text_c3',\n",
      " 'positionIncrementGap': '100'}\n",
      "\n",
      "Campo '*_txt_c3' já existe. Ignorando..\n",
      "\n",
      "Definição atual do campo é:\n",
      "{'name': '*_txt_c3', 'stored': True, 'type': 'text_c3'}\n",
      "\n"
     ]
    },
    {
     "data": {
      "text/plain": [
       "False"
      ]
     },
     "execution_count": 100,
     "metadata": {},
     "output_type": "execute_result"
    }
   ],
   "source": [
    "field_type_def3 = field_type_def2.copy()\n",
    "\n",
    "field_type_def3[\"add-field-type\"][\"name\"] = \"text_c3\"\n",
    "field_type_def3[\"add-field-type\"][\"analyzer\"][\"filters\"].append({\n",
    "    \"class\": \"solr.StopFilterFactory\",\n",
    "    \"format\": \"snowball\",\n",
    "    \"words\": \"lang/stopwords_pt.txt\",\n",
    "    \"ignoreCase\": True\n",
    "})\n",
    "\n",
    "create_field_type(field_type_def3)"
   ]
  },
  {
   "cell_type": "markdown",
   "metadata": {},
   "source": [
    "## Cria o tipo de campo text_c4\n",
    "Tem tudo que havia nos customizados anteriores e mais o Steam, usando __PortugueseLightSteamFilter__.\n",
    "As configurações deste tipo de campo __equivalem a do tipo _text_pt_ __ que é builtin no Solr e usado para os campos dinâmicos do cujo padrão de nomes é _*_txt_pt_"
   ]
  },
  {
   "cell_type": "code",
   "execution_count": 101,
   "metadata": {
    "collapsed": false
   },
   "outputs": [
    {
     "name": "stdout",
     "output_type": "stream",
     "text": [
      "Tipo text_c4 já existe. Ignorando..\n",
      "\n",
      "Definição atual do tipo é:\n",
      "{'analyzer': {'filters': [{'class': 'solr.LowerCaseFilterFactory'},\n",
      "                          {'class': 'solr.StopFilterFactory',\n",
      "                           'format': 'snowball',\n",
      "                           'ignoreCase': 'true',\n",
      "                           'words': 'lang/stopwords_pt.txt'},\n",
      "                          {'class': 'solr.PortugueseLightStemFilterFactory'}],\n",
      "              'tokenizer': {'class': 'solr.StandardTokenizerFactory'}},\n",
      " 'class': 'solr.TextField',\n",
      " 'name': 'text_c4',\n",
      " 'positionIncrementGap': '100'}\n",
      "\n",
      "Campo '*_txt_c4' já existe. Ignorando..\n",
      "\n",
      "Definição atual do campo é:\n",
      "{'name': '*_txt_c4', 'stored': True, 'type': 'text_c4'}\n",
      "\n"
     ]
    },
    {
     "data": {
      "text/plain": [
       "False"
      ]
     },
     "execution_count": 101,
     "metadata": {},
     "output_type": "execute_result"
    }
   ],
   "source": [
    "field_type_def4 = field_type_def3.copy()\n",
    "\n",
    "field_type_def4[\"add-field-type\"][\"name\"] = \"text_c4\"\n",
    "field_type_def4[\"add-field-type\"][\"analyzer\"][\"filters\"].append({\n",
    "    \"class\": \"solr.PortugueseLightStemFilterFactory\"\n",
    "})\n",
    "\n",
    "create_field_type(field_type_def4)"
   ]
  },
  {
   "cell_type": "markdown",
   "metadata": {},
   "source": [
    "## Cria o tipo text_c5 \n",
    "Esse campo é como o _text_c4_, porém usa um steammer diferente, o __PortugueseMinimalStemFilterFactory__. que é registrado nos comentários do tipo \"text\\_pt\" (no arquivo managed-schema) como sendo __less aggressive__. Creio que em relação ao _PortugueseLightSteamFilter_."
   ]
  },
  {
   "cell_type": "code",
   "execution_count": 102,
   "metadata": {
    "collapsed": false
   },
   "outputs": [
    {
     "name": "stdout",
     "output_type": "stream",
     "text": [
      "Tipo text_c5 já existe. Ignorando..\n",
      "\n",
      "Definição atual do tipo é:\n",
      "{'analyzer': {'filters': [{'class': 'solr.LowerCaseFilterFactory'},\n",
      "                          {'class': 'solr.StopFilterFactory',\n",
      "                           'format': 'snowball',\n",
      "                           'ignoreCase': 'true',\n",
      "                           'words': 'lang/stopwords_pt.txt'},\n",
      "                          {'class': 'solr.PortugueseLightStemFilterFactory'},\n",
      "                          {'class': 'solr.PortugueseMinimalStemFilterFactory'}],\n",
      "              'tokenizer': {'class': 'solr.StandardTokenizerFactory'}},\n",
      " 'class': 'solr.TextField',\n",
      " 'name': 'text_c5',\n",
      " 'positionIncrementGap': '100'}\n",
      "\n",
      "Campo '*_txt_c5' já existe. Ignorando..\n",
      "\n",
      "Definição atual do campo é:\n",
      "{'name': '*_txt_c5', 'stored': True, 'type': 'text_c5'}\n",
      "\n"
     ]
    },
    {
     "data": {
      "text/plain": [
       "False"
      ]
     },
     "execution_count": 102,
     "metadata": {},
     "output_type": "execute_result"
    }
   ],
   "source": [
    "field_type_def5 = field_type_def3.copy()  # copy field 3 again\n",
    "\n",
    "field_type_def5[\"add-field-type\"][\"name\"] = \"text_c5\"\n",
    "field_type_def5[\"add-field-type\"][\"analyzer\"][\"filters\"].append({\n",
    "    \"class\": \"solr.PortugueseMinimalStemFilterFactory\"\n",
    "})\n",
    "\n",
    "create_field_type(field_type_def5)"
   ]
  },
  {
   "cell_type": "markdown",
   "metadata": {},
   "source": [
    "## Cria o tipo text_c6 \n",
    "Esse campo é como o _text_c3_, porém usa um steammer diferente, o [SnowballPorterFilterFactory](http://snowball.tartarus.org/algorithms/portuguese/stemmer.html). Este steammer é gerado pelo software _snowball_ e é do tipo _pattern steammer_, que é supostamente menos preciso que um _table steammer_, mas é também mais simples de manter e mais rápido..[documentação do Solr](https://lucene.apache.org/solr/guide/7_1/filter-descriptions.html#snowball-porter-stemmer-filter)\n"
   ]
  },
  {
   "cell_type": "code",
   "execution_count": 103,
   "metadata": {
    "collapsed": false
   },
   "outputs": [
    {
     "name": "stdout",
     "output_type": "stream",
     "text": [
      "Tipo text_c6 já existe. Ignorando..\n",
      "\n",
      "Definição atual do tipo é:\n",
      "{'analyzer': {'filters': [{'class': 'solr.LowerCaseFilterFactory'},\n",
      "                          {'class': 'solr.StopFilterFactory',\n",
      "                           'format': 'snowball',\n",
      "                           'ignoreCase': 'true',\n",
      "                           'words': 'lang/stopwords_pt.txt'},\n",
      "                          {'class': 'solr.PortugueseLightStemFilterFactory'},\n",
      "                          {'class': 'solr.PortugueseMinimalStemFilterFactory'},\n",
      "                          {'class': 'solr.SnowballPorterFilterFactory',\n",
      "                           'language': 'Portuguese'}],\n",
      "              'tokenizer': {'class': 'solr.StandardTokenizerFactory'}},\n",
      " 'class': 'solr.TextField',\n",
      " 'name': 'text_c6',\n",
      " 'positionIncrementGap': '100'}\n",
      "\n",
      "Campo '*_txt_c6' já existe. Ignorando..\n",
      "\n",
      "Definição atual do campo é:\n",
      "{'name': '*_txt_c6', 'stored': True, 'type': 'text_c6'}\n",
      "\n"
     ]
    },
    {
     "data": {
      "text/plain": [
       "False"
      ]
     },
     "execution_count": 103,
     "metadata": {},
     "output_type": "execute_result"
    }
   ],
   "source": [
    "field_type_def6 = field_type_def3.copy()  # copy field 3 again\n",
    "\n",
    "field_type_def6[\"add-field-type\"][\"name\"] = \"text_c6\"\n",
    "field_type_def6[\"add-field-type\"][\"analyzer\"][\"filters\"].append({\n",
    "    \"class\": \"solr.SnowballPorterFilterFactory\",\n",
    "    \"language\": \"Portuguese\"\n",
    "})\n",
    "\n",
    "create_field_type(field_type_def6)"
   ]
  },
  {
   "cell_type": "markdown",
   "metadata": {},
   "source": [
    "## Cria o tipo text_c7 \n",
    "Esse campo é como o _text_c3_, mas usando o __PortugueseStemFilterFactory__ descrito nos comentários do arquivo de configuração (managed-schema) do Solr como o __most agressive__."
   ]
  },
  {
   "cell_type": "code",
   "execution_count": 104,
   "metadata": {
    "collapsed": false
   },
   "outputs": [
    {
     "name": "stdout",
     "output_type": "stream",
     "text": [
      "Tipo text_c7 já existe. Ignorando..\n",
      "\n",
      "Definição atual do tipo é:\n",
      "{'analyzer': {'filters': [{'class': 'solr.LowerCaseFilterFactory'},\n",
      "                          {'class': 'solr.StopFilterFactory',\n",
      "                           'format': 'snowball',\n",
      "                           'ignoreCase': 'true',\n",
      "                           'words': 'lang/stopwords_pt.txt'},\n",
      "                          {'class': 'solr.PortugueseLightStemFilterFactory'},\n",
      "                          {'class': 'solr.PortugueseMinimalStemFilterFactory'},\n",
      "                          {'class': 'solr.SnowballPorterFilterFactory',\n",
      "                           'language': 'Portuguese'},\n",
      "                          {'class': 'solr.PortugueseStemFilterFactory'}],\n",
      "              'tokenizer': {'class': 'solr.StandardTokenizerFactory'}},\n",
      " 'class': 'solr.TextField',\n",
      " 'name': 'text_c7',\n",
      " 'positionIncrementGap': '100'}\n",
      "\n",
      "Campo '*_txt_c7' já existe. Ignorando..\n",
      "\n",
      "Definição atual do campo é:\n",
      "{'name': '*_txt_c7', 'stored': True, 'type': 'text_c7'}\n",
      "\n"
     ]
    },
    {
     "data": {
      "text/plain": [
       "False"
      ]
     },
     "execution_count": 104,
     "metadata": {},
     "output_type": "execute_result"
    }
   ],
   "source": [
    "field_type_def7 = field_type_def3.copy()  # copy field 3 again\n",
    "\n",
    "field_type_def7[\"add-field-type\"][\"name\"] = \"text_c7\"\n",
    "field_type_def7[\"add-field-type\"][\"analyzer\"][\"filters\"].append({\n",
    "    \"class\": \"solr.PortugueseStemFilterFactory\"\n",
    "})\n",
    "\n",
    "create_field_type(field_type_def7)"
   ]
  },
  {
   "cell_type": "code",
   "execution_count": null,
   "metadata": {
    "collapsed": true
   },
   "outputs": [],
   "source": []
  }
 ],
 "metadata": {
  "kernelspec": {
   "display_name": "Python 3",
   "language": "python",
   "name": "python3"
  },
  "language_info": {
   "codemirror_mode": {
    "name": "ipython",
    "version": 3
   },
   "file_extension": ".py",
   "mimetype": "text/x-python",
   "name": "python",
   "nbconvert_exporter": "python",
   "pygments_lexer": "ipython3",
   "version": "3.4.0"
  }
 },
 "nbformat": 4,
 "nbformat_minor": 0
}
