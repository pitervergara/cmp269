{
 "cells": [
  {
   "cell_type": "code",
   "execution_count": 1,
   "metadata": {
    "collapsed": false
   },
   "outputs": [],
   "source": [
    "import re\n",
    "import os\n",
    "import pysolr\n",
    "import tabulate\n",
    "from datetime import datetime\n",
    "from pprint import pprint\n",
    "from IPython.display import HTML, display\n",
    "\n"
   ]
  },
  {
   "cell_type": "code",
   "execution_count": 2,
   "metadata": {
    "collapsed": true
   },
   "outputs": [],
   "source": [
    "# Solr collection url \n",
    "SOLR_URL = 'http://solr:8983/solr/cmp269'\n",
    "\n",
    "QUERIES_FILE_PATH = 'data/Consultas_UTF8.txt'"
   ]
  },
  {
   "cell_type": "markdown",
   "metadata": {},
   "source": [
    "## Código pra ler os arquivos e separar as queries com base nas tags"
   ]
  },
  {
   "cell_type": "code",
   "execution_count": 3,
   "metadata": {
    "collapsed": true
   },
   "outputs": [],
   "source": [
    "def parse_file(fpath, doc_tag):\n",
    "    '''Reads file line by line and extract the docs'''\n",
    "\n",
    "    docs = []\n",
    "    closing_doc_line = \"</%s>\\n\" % doc_tag\n",
    "    \n",
    "    with open(fpath) as file:\n",
    "        doc_as_string = \"\"\n",
    "\n",
    "        line = file.readline()\n",
    "        while (line):\n",
    "            if (line) == closing_doc_line:\n",
    "                doc_as_string += line\n",
    "                \n",
    "                doc = parse_doc(doc_as_string)\n",
    "                docs.append(doc)\n",
    "\n",
    "                doc_as_string = \"\"\n",
    "            else:\n",
    "                doc_as_string += line\n",
    "\n",
    "            line = file.readline()\n",
    "\n",
    "    return docs"
   ]
  },
  {
   "cell_type": "markdown",
   "metadata": {},
   "source": [
    "## Código para fazer o parse da string de cada query e criar um dicionário"
   ]
  },
  {
   "cell_type": "code",
   "execution_count": 4,
   "metadata": {
    "collapsed": true
   },
   "outputs": [],
   "source": [
    "def parse_doc(doc_as_string):\n",
    "    # print(doc_as_string)\n",
    "\n",
    "    doc_tpl = {\n",
    "        'num': 'num',\n",
    "        'PT-title': 'title',\n",
    "        'PT-desc': 'desc',\n",
    "        'PT-narr': 'narr',\n",
    "    }\n",
    "\n",
    "    doc = {}\n",
    "\n",
    "    for key in doc_tpl.keys():\n",
    "        # generates something like:\n",
    "        # str_pattern = \".*\\<DOCID\\>(.*)\\<\\/DOCID\\>.*\"\n",
    "        str_pattern = \".*\\<%s\\>(.*)\\<\\/%s\\>.*\" % (key, key)\n",
    "\n",
    "        # compiles pattern, capture match, updates doc\n",
    "        re_pattern = re.compile(str_pattern, re.DOTALL)\n",
    "        match = re_pattern.match(doc_as_string)\n",
    "        \n",
    "        if match:\n",
    "            value = match.group(1).strip()\n",
    "            solr_key = doc_tpl[key]\n",
    "            doc.update({solr_key: value})\n",
    "\n",
    "    # ensures we have all keys..\n",
    "    for key in doc_tpl.values():\n",
    "        assert(doc[key] is not None)\n",
    "\n",
    "    return doc\n"
   ]
  },
  {
   "cell_type": "markdown",
   "metadata": {},
   "source": [
    "## Testando várias maneiras diferentes de fazer a query na API do Solr..."
   ]
  },
  {
   "cell_type": "code",
   "execution_count": 5,
   "metadata": {
    "collapsed": false,
    "scrolled": false
   },
   "outputs": [
    {
     "data": {
      "text/html": [
       "<table>\n",
       "<tbody>\n",
       "<tr><td>         </td><td>Medicina alternativa                                                             </td></tr>\n",
       "<tr><td># Results</td><td>Parameters                                                                       </td></tr>\n",
       "<tr><td>2        </td><td>{'q': 'text_txt_pt:\"Medicina alternativa\"'}                                      </td></tr>\n",
       "<tr><td>2616     </td><td>{'q.op': 'OR', 'q': 'text_txt_pt:Medicina text_txt_pt:alternativa'}              </td></tr>\n",
       "<tr><td>41       </td><td>{'q.op': 'AND', 'q': 'text_txt_pt:Medicina text_txt_pt:alternativa'}             </td></tr>\n",
       "<tr><td>41       </td><td>{'q': '+text_txt_pt:Medicina +text_txt_pt:alternativa'}                          </td></tr>\n",
       "<tr><td>         </td><td>                                                                                 </td></tr>\n",
       "<tr><td>2        </td><td>{'q': '*:*', 'fq': 'text_txt_pt:\"Medicina alternativa\"'}                         </td></tr>\n",
       "<tr><td>2616     </td><td>{'q.op': 'OR', 'q': '*:*', 'fq': 'text_txt_pt:Medicina text_txt_pt:alternativa'} </td></tr>\n",
       "<tr><td>41       </td><td>{'q.op': 'AND', 'q': '*:*', 'fq': 'text_txt_pt:Medicina text_txt_pt:alternativa'}</td></tr>\n",
       "<tr><td>41       </td><td>{'q': '*:*', 'fq': '+text_txt_pt:Medicina +text_txt_pt:alternativa'}             </td></tr>\n",
       "<tr><td>         </td><td>                                                                                 </td></tr>\n",
       "<tr><td>2        </td><td>{'df': 'text_txt_pt', 'q': '\"Medicina alternativa\"'}                             </td></tr>\n",
       "<tr><td>2616     </td><td>{'df': 'text_txt_pt', 'q.op': 'OR', 'q': 'Medicina alternativa'}                 </td></tr>\n",
       "<tr><td>41       </td><td>{'df': 'text_txt_pt', 'q.op': 'AND', 'q': 'Medicina alternativa'}                </td></tr>\n",
       "<tr><td>41       </td><td>{'df': 'text_txt_pt', 'q': '+Medicina +alternativa'}                             </td></tr>\n",
       "</tbody>\n",
       "</table>"
      ],
      "text/plain": [
       "<IPython.core.display.HTML object>"
      ]
     },
     "metadata": {},
     "output_type": "display_data"
    },
    {
     "data": {
      "text/html": [
       "<table>\n",
       "<tbody>\n",
       "<tr><td>         </td><td>Sistemas de reforma e pensões na Europa                                                                                                                         </td></tr>\n",
       "<tr><td># Results</td><td>Parameters                                                                                                                                                      </td></tr>\n",
       "<tr><td>0        </td><td>{'q': 'text_txt_pt:\"Sistemas de reforma e pensões na Europa\"'}                                                                                                  </td></tr>\n",
       "<tr><td>11409    </td><td>{'q.op': 'OR', 'q': 'text_txt_pt:Sistemas text_txt_pt:de text_txt_pt:reforma text_txt_pt:e text_txt_pt:pensões text_txt_pt:na text_txt_pt:Europa'}              </td></tr>\n",
       "<tr><td>0        </td><td>{'q.op': 'AND', 'q': 'text_txt_pt:Sistemas text_txt_pt:de text_txt_pt:reforma text_txt_pt:e text_txt_pt:pensões text_txt_pt:na text_txt_pt:Europa'}             </td></tr>\n",
       "<tr><td>0        </td><td>{'q': '+text_txt_pt:Sistemas +text_txt_pt:de +text_txt_pt:reforma +text_txt_pt:e +text_txt_pt:pensões +text_txt_pt:na +text_txt_pt:Europa'}                     </td></tr>\n",
       "<tr><td>         </td><td>                                                                                                                                                                </td></tr>\n",
       "<tr><td>0        </td><td>{'q': '*:*', 'fq': 'text_txt_pt:\"Sistemas de reforma e pensões na Europa\"'}                                                                                     </td></tr>\n",
       "<tr><td>11409    </td><td>{'q.op': 'OR', 'q': '*:*', 'fq': 'text_txt_pt:Sistemas text_txt_pt:de text_txt_pt:reforma text_txt_pt:e text_txt_pt:pensões text_txt_pt:na text_txt_pt:Europa'} </td></tr>\n",
       "<tr><td>0        </td><td>{'q.op': 'AND', 'q': '*:*', 'fq': 'text_txt_pt:Sistemas text_txt_pt:de text_txt_pt:reforma text_txt_pt:e text_txt_pt:pensões text_txt_pt:na text_txt_pt:Europa'}</td></tr>\n",
       "<tr><td>0        </td><td>{'q': '*:*', 'fq': '+text_txt_pt:Sistemas +text_txt_pt:de +text_txt_pt:reforma +text_txt_pt:e +text_txt_pt:pensões +text_txt_pt:na +text_txt_pt:Europa'}        </td></tr>\n",
       "<tr><td>         </td><td>                                                                                                                                                                </td></tr>\n",
       "<tr><td>0        </td><td>{'df': 'text_txt_pt', 'q': '\"Sistemas de reforma e pensões na Europa\"'}                                                                                         </td></tr>\n",
       "<tr><td>11409    </td><td>{'df': 'text_txt_pt', 'q.op': 'OR', 'q': 'Sistemas de reforma e pensões na Europa'}                                                                             </td></tr>\n",
       "<tr><td>0        </td><td>{'df': 'text_txt_pt', 'q.op': 'AND', 'q': 'Sistemas de reforma e pensões na Europa'}                                                                            </td></tr>\n",
       "<tr><td>0        </td><td>{'df': 'text_txt_pt', 'q': '+Sistemas +de +reforma +e +pensões +na +Europa'}                                                                                    </td></tr>\n",
       "</tbody>\n",
       "</table>"
      ],
      "text/plain": [
       "<IPython.core.display.HTML object>"
      ]
     },
     "metadata": {},
     "output_type": "display_data"
    },
    {
     "name": "stdout",
     "output_type": "stream",
     "text": [
      "The end\n"
     ]
    }
   ],
   "source": [
    "def query(params):\n",
    "    result = sq.search(**params)\n",
    "    result_lines.append([result.hits, params])\n",
    "\n",
    "\n",
    "sq = pysolr.Solr(SOLR_URL)\n",
    "\n",
    "\n",
    "queries = parse_file(QUERIES_FILE_PATH, 'top')\n",
    "\n",
    "# Vamos testar só com as duas primeiras\n",
    "queries = queries[:2]\n",
    "\n",
    "for q in queries:\n",
    "    \n",
    "    result_lines = []\n",
    "    title = q[\"title\"]\n",
    "\n",
    "    # query inteira e entre aspas, precedida pelo nome do campo (\"text_txt_pt:\")\n",
    "    quoted_query = 'text_txt_pt:\"%s\"' % title\n",
    "\n",
    "    # cada termo da query precedido pelo nome do campo\n",
    "    parts = [\"text_txt_pt:%s\" % p for p in title.split(' ')]\n",
    "    unquoted_query = '%s' % ' '.join(parts)\n",
    "\n",
    "    # cada termo da query precedido por \"+text_txt_pt:\" (repare o sinal +)\n",
    "    parts = [\"+text_txt_pt:%s\" % p for p in title.split(' ')]\n",
    "    plus_query = '%s' % ' '.join(parts)\n",
    "\n",
    "    \n",
    "    # default field\n",
    "    default_field = \"text_txt_pt\"\n",
    "    \n",
    "    # query inteira e entre aspas (sem o nome do campo)\n",
    "    quoted_query_df = '\"%s\"' % title\n",
    "\n",
    "    # query inteira e sem as aspas\n",
    "    unquoted_query_df = title\n",
    "\n",
    "    # cada termo da query precedido só pelo sinal de +\n",
    "    parts = [\"+%s\" % p for p in title.split(' ')]\n",
    "    plus_query_df = '%s' % ' '.join(parts)\n",
    "\n",
    "\n",
    "    # cabeçalho da tabela\n",
    "    result_lines.append([None, title])\n",
    "    result_lines.append(['# Results', 'Parameters'])\n",
    "\n",
    "    ##\n",
    "    ## Usando o parâmetro query \n",
    "    ##\n",
    "    query({\n",
    "        \"q\": quoted_query\n",
    "    })\n",
    "\n",
    "    query({\n",
    "        \"q\": unquoted_query,\n",
    "        \"q.op\": \"OR\"\n",
    "    })\n",
    "    \n",
    "    query({\n",
    "        \"q\": unquoted_query,\n",
    "        \"q.op\": \"AND\"\n",
    "    })\n",
    "\n",
    "    query({\n",
    "        \"q\": plus_query\n",
    "    })\n",
    "\n",
    "\n",
    "    # linha em branco na tabela\n",
    "    result_lines.append([None,None])\n",
    "\n",
    "    ##\n",
    "    ## Usando filter query\n",
    "    ##\n",
    "    query({\n",
    "        \"q\": \"*:*\",\n",
    "        \"fq\": quoted_query\n",
    "    })\n",
    "\n",
    "    query({\n",
    "        \"q\": \"*:*\",\n",
    "        \"q.op\": \"OR\",\n",
    "        \"fq\": unquoted_query,\n",
    "    })\n",
    "\n",
    "    query({\n",
    "        \"q\": \"*:*\",\n",
    "        \"q.op\": \"AND\",\n",
    "        \"fq\": unquoted_query,\n",
    "    })\n",
    "\n",
    "    query({\n",
    "        \"q\": \"*:*\",\n",
    "        \"fq\": plus_query,\n",
    "    })\n",
    "\n",
    "\n",
    "    # linha em branco na tabela\n",
    "    result_lines.append([None,None])\n",
    "\n",
    "    ##\n",
    "    ## Usando default field\n",
    "    ##\n",
    "\n",
    "    query({\n",
    "        \"q\": quoted_query_df,\n",
    "        \"df\": default_field,\n",
    "    })\n",
    "\n",
    "    query({\n",
    "        \"q\": unquoted_query_df,\n",
    "        \"q.op\": \"OR\",\n",
    "        \"df\": default_field,\n",
    "    })\n",
    "\n",
    "    query({\n",
    "        \"q\": unquoted_query_df,\n",
    "        \"q.op\": \"AND\",\n",
    "        \"df\": default_field,\n",
    "    })\n",
    "    \n",
    "    query({\n",
    "        \"q\": plus_query_df,\n",
    "        \"df\": default_field,\n",
    "    })\n",
    "\n",
    "    display(HTML(tabulate.tabulate(result_lines, tablefmt='html')))\n",
    "\n",
    "print(\"The end\")"
   ]
  },
  {
   "cell_type": "markdown",
   "metadata": {
    "collapsed": true
   },
   "source": [
    "## Escolhendo um jeito...\n",
    "\n",
    "Dá pra ver que há vários jeitos de fazer a mesma query...\n",
    "Escolhendo uma das opções que traz pelo menos um resultado ambas as queries:\n",
    "\n",
    "* Sem aspas\n",
    "* Usando o operador OR\n",
    "* Indicando o default_field\n",
    "\n",
    "Ex:\n",
    "\n",
    "```python\n",
    "{\n",
    "    'df': 'text_txt_pt', \n",
    "    'q': 'Centrais nucleares', \n",
    "    'q.op': 'OR'\n",
    "}\n",
    "```\n",
    "\n",
    "\n"
   ]
  },
  {
   "cell_type": "code",
   "execution_count": 6,
   "metadata": {
    "collapsed": false
   },
   "outputs": [
    {
     "data": {
      "text/html": [
       "<table>\n",
       "<tbody>\n",
       "<tr><td># Results</td><td>query                                         </td></tr>\n",
       "<tr><td>2616     </td><td>Medicina alternativa                          </td></tr>\n",
       "<tr><td>11409    </td><td>Sistemas de reforma e pensões na Europa       </td></tr>\n",
       "<tr><td>10121    </td><td>Países com pena de morte                      </td></tr>\n",
       "<tr><td>1406     </td><td>Danos provocados por terramotos               </td></tr>\n",
       "<tr><td>964      </td><td>Viciados na Internet                          </td></tr>\n",
       "<tr><td>1218     </td><td>Doença de Creutzfeldt-Jakob                   </td></tr>\n",
       "<tr><td>1209     </td><td>Limpeza étnica nos Balcãs                     </td></tr>\n",
       "<tr><td>1940     </td><td>Legislação anti-tabagista                     </td></tr>\n",
       "<tr><td>12       </td><td>Adivinhação                                   </td></tr>\n",
       "<tr><td>2        </td><td>Espectáculos de beneficiência                 </td></tr>\n",
       "<tr><td>3160     </td><td>Disputas de arbitragem no futebol             </td></tr>\n",
       "<tr><td>2065     </td><td>Contrabando de material radioativo            </td></tr>\n",
       "<tr><td>654      </td><td>Aquisições do Deutsche Bank                   </td></tr>\n",
       "<tr><td>12287    </td><td>Discriminação contra os ciganos na Europa     </td></tr>\n",
       "<tr><td>12510    </td><td>Melhor Filme Estrangeiro                      </td></tr>\n",
       "<tr><td>3418     </td><td>Ética e a Clonagem Humana                     </td></tr>\n",
       "<tr><td>781      </td><td>Concorrentes da Microsoft                     </td></tr>\n",
       "<tr><td>1100     </td><td>Casamentos Gays                               </td></tr>\n",
       "<tr><td>15562    </td><td>Biografia do presidente checo                 </td></tr>\n",
       "<tr><td>926      </td><td>Expansão da OTAN                              </td></tr>\n",
       "<tr><td>24389    </td><td>Bombas não detonadas da Segunda Guerra Mundial</td></tr>\n",
       "<tr><td>2033     </td><td>Doenças relacionadas ao fumo                  </td></tr>\n",
       "<tr><td>1193     </td><td>Subsídios agrícolas da UE                     </td></tr>\n",
       "<tr><td>5358     </td><td>Eutanásia por profissionais da saúde          </td></tr>\n",
       "<tr><td>1650     </td><td>Transporte para deficientes                   </td></tr>\n",
       "<tr><td>13621    </td><td>Crime em Nova York                            </td></tr>\n",
       "<tr><td>80       </td><td>Radovan Karadzic                              </td></tr>\n",
       "<tr><td>5234     </td><td>Maus-tratos nas prisões                       </td></tr>\n",
       "<tr><td>7610     </td><td>Filmes da série James Bond                    </td></tr>\n",
       "<tr><td>1061     </td><td>Missões do vaivém espacial                    </td></tr>\n",
       "<tr><td>4598     </td><td>Movimentos anti-aborto                        </td></tr>\n",
       "<tr><td>1959     </td><td>Lesões no futebol                             </td></tr>\n",
       "<tr><td>5552     </td><td>Ações terroristas com reféns                  </td></tr>\n",
       "<tr><td>10516    </td><td>Importações de carros para os EUA             </td></tr>\n",
       "<tr><td>6362     </td><td>Flutuação do preço do petróleo                </td></tr>\n",
       "<tr><td>9542     </td><td>Reconstrução de cidades alemãs                </td></tr>\n",
       "<tr><td>8069     </td><td>Relações entre a China e a Formosa            </td></tr>\n",
       "<tr><td>3807     </td><td>Força dos furações                            </td></tr>\n",
       "<tr><td>5861     </td><td>Centrais nucleares                            </td></tr>\n",
       "<tr><td>6835     </td><td>Riscos das missões de manutenção de paz da ONU</td></tr>\n",
       "<tr><td>1503     </td><td>Prémios na lotaria                            </td></tr>\n",
       "</tbody>\n",
       "</table>"
      ],
      "text/plain": [
       "<IPython.core.display.HTML object>"
      ]
     },
     "metadata": {},
     "output_type": "display_data"
    },
    {
     "name": "stdout",
     "output_type": "stream",
     "text": [
      "The end\n"
     ]
    }
   ],
   "source": [
    "sq = pysolr.Solr(SOLR_URL)\n",
    "\n",
    "result_lines = []\n",
    "result_lines.append(['# Results', 'query'])\n",
    "\n",
    "queries = parse_file(QUERIES_FILE_PATH, 'top')\n",
    "for q in queries:\n",
    "\n",
    "    title = q[\"title\"]\n",
    "\n",
    "    params = {\n",
    "        \"q\": title,\n",
    "        \"q.op\": \"OR\",\n",
    "        \"df\": \"text_txt_pt\",\n",
    "    }\n",
    "    \n",
    "    result = sq.search(**params)\n",
    "    result_lines.append([result.hits, title])\n",
    "    \n",
    "    result = None\n",
    "    \n",
    "display(HTML(tabulate.tabulate(result_lines, tablefmt='html')))\n",
    "\n",
    "print(\"The end\")"
   ]
  },
  {
   "cell_type": "markdown",
   "metadata": {
    "collapsed": true
   },
   "source": [
    "##Fazendo a mesma query em campos com pré-processamentos distintos"
   ]
  },
  {
   "cell_type": "code",
   "execution_count": 8,
   "metadata": {
    "collapsed": false
   },
   "outputs": [
    {
     "data": {
      "text/html": [
       "<table>\n",
       "<tbody>\n",
       "<tr><td>query                                         </td><td>Campos     </td><td>           </td><td>           </td><td>           </td><td>           </td><td>           </td><td>           </td><td>           </td></tr>\n",
       "<tr><td>                                              </td><td>text_txt_pt</td><td>text_txt_c1</td><td>text_txt_c2</td><td>text_txt_c3</td><td>text_txt_c4</td><td>text_txt_c5</td><td>text_txt_c6</td><td>text_txt_c7</td></tr>\n",
       "<tr><td>Medicina alternativa                          </td><td>2616       </td><td>1468       </td><td>1787       </td><td>1787       </td><td>2616       </td><td>2369       </td><td>2869       </td><td>2856       </td></tr>\n",
       "<tr><td>Sistemas de reforma e pensões na Europa       </td><td>11409      </td><td>52004      </td><td>52007      </td><td>6038       </td><td>11409      </td><td>11400      </td><td>12117      </td><td>15378      </td></tr>\n",
       "<tr><td>Países com pena de morte                      </td><td>10121      </td><td>51836      </td><td>51848      </td><td>8060       </td><td>10121      </td><td>8566       </td><td>17509      </td><td>17822      </td></tr>\n",
       "<tr><td>Danos provocados por terramotos               </td><td>1406       </td><td>36245      </td><td>37062      </td><td>518        </td><td>1406       </td><td>1011       </td><td>4049       </td><td>4127       </td></tr>\n",
       "<tr><td>Viciados na Internet                          </td><td>964        </td><td>40495      </td><td>41554      </td><td>803        </td><td>964        </td><td>898        </td><td>3546       </td><td>1357       </td></tr>\n",
       "<tr><td>Doença de Creutzfeldt-Jakob                   </td><td>1218       </td><td>51728      </td><td>51741      </td><td>827        </td><td>1218       </td><td>1218       </td><td>1219       </td><td>1219       </td></tr>\n",
       "<tr><td>Limpeza étnica nos Balcãs                     </td><td>1209       </td><td>18697      </td><td>19880      </td><td>771        </td><td>1209       </td><td>824        </td><td>934        </td><td>1809       </td></tr>\n",
       "<tr><td>Legislação anti-tabagista                     </td><td>1940       </td><td>439        </td><td>1900       </td><td>1900       </td><td>1940       </td><td>1939       </td><td>3126       </td><td>10219      </td></tr>\n",
       "<tr><td>Adivinhação                                   </td><td>12         </td><td>0          </td><td>11         </td><td>11         </td><td>12         </td><td>12         </td><td>127        </td><td>102        </td></tr>\n",
       "<tr><td>Espectáculos de beneficiência                 </td><td>2          </td><td>51728      </td><td>51740      </td><td>1          </td><td>2          </td><td>2          </td><td>3          </td><td>2381       </td></tr>\n",
       "<tr><td>Disputas de arbitragem no futebol             </td><td>3160       </td><td>51856      </td><td>51886      </td><td>1998       </td><td>3160       </td><td>3156       </td><td>4210       </td><td>4386       </td></tr>\n",
       "<tr><td>Contrabando de material radioativo            </td><td>2065       </td><td>51730      </td><td>51742      </td><td>1549       </td><td>2065       </td><td>2051       </td><td>1640       </td><td>3489       </td></tr>\n",
       "<tr><td>Aquisições do Deutsche Bank                   </td><td>654        </td><td>49111      </td><td>49164      </td><td>287        </td><td>654        </td><td>650        </td><td>298        </td><td>662        </td></tr>\n",
       "<tr><td>Discriminação contra os ciganos na Europa     </td><td>12287      </td><td>47816      </td><td>48819      </td><td>12210      </td><td>12287      </td><td>12259      </td><td>13370      </td><td>15146      </td></tr>\n",
       "<tr><td>Melhor Filme Estrangeiro                      </td><td>12510      </td><td>511        </td><td>9374       </td><td>9374       </td><td>12510      </td><td>11917      </td><td>13768      </td><td>13506      </td></tr>\n",
       "<tr><td>Ética e a Clonagem Humana                     </td><td>3418       </td><td>51663      </td><td>51806      </td><td>1282       </td><td>3418       </td><td>1575       </td><td>3757       </td><td>3837       </td></tr>\n",
       "<tr><td>Concorrentes da Microsoft                     </td><td>781        </td><td>48270      </td><td>49279      </td><td>567        </td><td>781        </td><td>780        </td><td>1806       </td><td>2320       </td></tr>\n",
       "<tr><td>Casamentos Gays                               </td><td>1100       </td><td>94         </td><td>314        </td><td>314        </td><td>1100       </td><td>1100       </td><td>908        </td><td>17224      </td></tr>\n",
       "<tr><td>Biografia do presidente checo                 </td><td>15562      </td><td>49315      </td><td>49370      </td><td>15337      </td><td>15562      </td><td>15543      </td><td>16217      </td><td>16708      </td></tr>\n",
       "<tr><td>Expansão da OTAN                              </td><td>926        </td><td>48261      </td><td>49276      </td><td>923        </td><td>926        </td><td>926        </td><td>925        </td><td>968        </td></tr>\n",
       "<tr><td>Bombas não detonadas da Segunda Guerra Mundial</td><td>24389      </td><td>49754      </td><td>50381      </td><td>10087      </td><td>24389      </td><td>11137      </td><td>24354      </td><td>28035      </td></tr>\n",
       "<tr><td>Doenças relacionadas ao fumo                  </td><td>2033       </td><td>32355      </td><td>33014      </td><td>940        </td><td>2033       </td><td>1706       </td><td>3181       </td><td>3041       </td></tr>\n",
       "<tr><td>Subsídios agrícolas da UE                     </td><td>1193       </td><td>48269      </td><td>49274      </td><td>692        </td><td>1193       </td><td>1176       </td><td>1176       </td><td>1383       </td></tr>\n",
       "<tr><td>Eutanásia por profissionais da saúde          </td><td>5358       </td><td>49879      </td><td>50376      </td><td>4355       </td><td>5358       </td><td>5301       </td><td>4381       </td><td>6395       </td></tr>\n",
       "<tr><td>Transporte para deficientes                   </td><td>1650       </td><td>44225      </td><td>44779      </td><td>1025       </td><td>1650       </td><td>1602       </td><td>2309       </td><td>2310       </td></tr>\n",
       "<tr><td>Crime em Nova York                            </td><td>13621      </td><td>47377      </td><td>48079      </td><td>10507      </td><td>13621      </td><td>12972      </td><td>20523      </td><td>20708      </td></tr>\n",
       "<tr><td>Radovan Karadzic                              </td><td>80         </td><td>80         </td><td>80         </td><td>80         </td><td>80         </td><td>80         </td><td>80         </td><td>80         </td></tr>\n",
       "<tr><td>Maus-tratos nas prisões                       </td><td>5234       </td><td>13666      </td><td>14288      </td><td>515        </td><td>5234       </td><td>2566       </td><td>5999       </td><td>8831       </td></tr>\n",
       "<tr><td>Filmes da série James Bond                    </td><td>7610       </td><td>48371      </td><td>49432      </td><td>4550       </td><td>7610       </td><td>6222       </td><td>8063       </td><td>7418       </td></tr>\n",
       "<tr><td>Missões do vaivém espacial                    </td><td>1061       </td><td>49115      </td><td>49170      </td><td>342        </td><td>1061       </td><td>1055       </td><td>350        </td><td>4446       </td></tr>\n",
       "<tr><td>Movimentos anti-aborto                        </td><td>4598       </td><td>655        </td><td>1545       </td><td>1545       </td><td>4598       </td><td>4482       </td><td>5591       </td><td>11762      </td></tr>\n",
       "<tr><td>Lesões no futebol                             </td><td>1959       </td><td>43163      </td><td>44144      </td><td>1844       </td><td>1959       </td><td>1932       </td><td>1852       </td><td>2063       </td></tr>\n",
       "<tr><td>Ações terroristas com reféns                  </td><td>5552       </td><td>42710      </td><td>43375      </td><td>2604       </td><td>5552       </td><td>2857       </td><td>3057       </td><td>3211       </td></tr>\n",
       "<tr><td>Importações de carros para os EUA             </td><td>10516      </td><td>51948      </td><td>51961      </td><td>8521       </td><td>10516      </td><td>10513      </td><td>15997      </td><td>17050      </td></tr>\n",
       "<tr><td>Flutuação do preço do petróleo                </td><td>6362       </td><td>49199      </td><td>49314      </td><td>4038       </td><td>6362       </td><td>6323       </td><td>6345       </td><td>6698       </td></tr>\n",
       "<tr><td>Reconstrução de cidades alemãs                </td><td>9542       </td><td>51729      </td><td>51741      </td><td>2099       </td><td>9542       </td><td>8375       </td><td>8018       </td><td>15843      </td></tr>\n",
       "<tr><td>Relações entre a China e a Formosa            </td><td>8069       </td><td>51671      </td><td>51812      </td><td>2982       </td><td>8069       </td><td>8052       </td><td>3001       </td><td>16723      </td></tr>\n",
       "<tr><td>Força dos furações                            </td><td>3807       </td><td>36837      </td><td>37264      </td><td>2522       </td><td>3807       </td><td>3683       </td><td>4379       </td><td>4805       </td></tr>\n",
       "<tr><td>Centrais nucleares                            </td><td>5861       </td><td>346        </td><td>849        </td><td>849        </td><td>5861       </td><td>5854       </td><td>5800       </td><td>10638      </td></tr>\n",
       "<tr><td>Riscos das missões de manutenção de paz da ONU</td><td>6835       </td><td>51916      </td><td>51925      </td><td>3978       </td><td>6835       </td><td>6574       </td><td>6222       </td><td>7070       </td></tr>\n",
       "<tr><td>Prémios na lotaria                            </td><td>1503       </td><td>40410      </td><td>41462      </td><td>2          </td><td>1503       </td><td>2          </td><td>890        </td><td>3133       </td></tr>\n",
       "</tbody>\n",
       "</table>"
      ],
      "text/plain": [
       "<IPython.core.display.HTML object>"
      ]
     },
     "metadata": {},
     "output_type": "display_data"
    },
    {
     "name": "stdout",
     "output_type": "stream",
     "text": [
      "The end\n"
     ]
    }
   ],
   "source": [
    "sq = pysolr.Solr(SOLR_URL)\n",
    "\n",
    "\n",
    "fields = ['text_txt_pt', 'text_txt_c1', 'text_txt_c2', 'text_txt_c3',\n",
    "          'text_txt_c4', 'text_txt_c5', 'text_txt_c6', 'text_txt_c7']\n",
    "result_lines = []\n",
    "result_lines.append(['query', 'Campos'])\n",
    "result_lines.append([None] + fields)\n",
    "\n",
    "queries = parse_file(QUERIES_FILE_PATH, 'top')\n",
    "for q in queries:\n",
    "    title = q[\"title\"]\n",
    "    result_line = [title]\n",
    "    \n",
    "    for field in fields:\n",
    "        params = {\n",
    "            \"q\": title,\n",
    "            \"q.op\": \"OR\",\n",
    "            \"df\": field,\n",
    "        }\n",
    "\n",
    "        result = sq.search(**params)\n",
    "        result_line.append(result.hits)\n",
    "\n",
    "    result_lines.append(result_line)\n",
    "    result = None\n",
    "    \n",
    "display(HTML(tabulate.tabulate(result_lines, tablefmt='html')))\n",
    "\n",
    "print(\"The end\")"
   ]
  },
  {
   "cell_type": "code",
   "execution_count": null,
   "metadata": {
    "collapsed": true
   },
   "outputs": [],
   "source": []
  }
 ],
 "metadata": {
  "kernelspec": {
   "display_name": "Python 3",
   "language": "python",
   "name": "python3"
  },
  "language_info": {
   "codemirror_mode": {
    "name": "ipython",
    "version": 3
   },
   "file_extension": ".py",
   "mimetype": "text/x-python",
   "name": "python",
   "nbconvert_exporter": "python",
   "pygments_lexer": "ipython3",
   "version": "3.4.0"
  }
 },
 "nbformat": 4,
 "nbformat_minor": 0
}
