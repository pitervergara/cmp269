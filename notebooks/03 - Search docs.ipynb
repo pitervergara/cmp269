{
 "cells": [
  {
   "cell_type": "code",
   "execution_count": 85,
   "metadata": {
    "collapsed": false
   },
   "outputs": [],
   "source": [
    "import re\n",
    "import os\n",
    "import pysolr\n",
    "import tabulate\n",
    "from datetime import datetime\n",
    "from pprint import pprint\n",
    "from IPython.display import HTML, display\n",
    "\n"
   ]
  },
  {
   "cell_type": "code",
   "execution_count": 86,
   "metadata": {
    "collapsed": true
   },
   "outputs": [],
   "source": [
    "# Solr collection url \n",
    "SOLR_URL = 'http://solr:8983/solr/cmp269'\n",
    "\n",
    "QUERIES_FILE_PATH = 'data/Consultas_UTF8.txt'"
   ]
  },
  {
   "cell_type": "markdown",
   "metadata": {},
   "source": [
    "## Código pra ler os arquivos e separar as queries com base nas tags"
   ]
  },
  {
   "cell_type": "code",
   "execution_count": 87,
   "metadata": {
    "collapsed": true
   },
   "outputs": [],
   "source": [
    "def parse_file(fpath, doc_tag):\n",
    "    '''Reads file line by line and extract the docs'''\n",
    "\n",
    "    docs = []\n",
    "    closing_doc_line = \"</%s>\\n\" % doc_tag\n",
    "    \n",
    "    with open(fpath) as file:\n",
    "        doc_as_string = \"\"\n",
    "\n",
    "        line = file.readline()\n",
    "        while (line):\n",
    "            if (line) == closing_doc_line:\n",
    "                doc_as_string += line\n",
    "                \n",
    "                doc = parse_doc(doc_as_string)\n",
    "                docs.append(doc)\n",
    "\n",
    "                doc_as_string = \"\"\n",
    "            else:\n",
    "                doc_as_string += line\n",
    "\n",
    "            line = file.readline()\n",
    "\n",
    "    return docs"
   ]
  },
  {
   "cell_type": "markdown",
   "metadata": {},
   "source": [
    "## Código para fazer o parse da string de cada query e criar um dicionário"
   ]
  },
  {
   "cell_type": "code",
   "execution_count": 88,
   "metadata": {
    "collapsed": true
   },
   "outputs": [],
   "source": [
    "def parse_doc(doc_as_string):\n",
    "    # print(doc_as_string)\n",
    "\n",
    "    doc_tpl = {\n",
    "        'num': 'num',\n",
    "        'PT-title': 'title',\n",
    "        'PT-desc': 'desc',\n",
    "        'PT-narr': 'narr',\n",
    "    }\n",
    "\n",
    "    doc = {}\n",
    "\n",
    "    for key in doc_tpl.keys():\n",
    "        # generates something like:\n",
    "        # str_pattern = \".*\\<DOCID\\>(.*)\\<\\/DOCID\\>.*\"\n",
    "        str_pattern = \".*\\<%s\\>(.*)\\<\\/%s\\>.*\" % (key, key)\n",
    "\n",
    "        # compiles pattern, capture match, updates doc\n",
    "        re_pattern = re.compile(str_pattern, re.DOTALL)\n",
    "        match = re_pattern.match(doc_as_string)\n",
    "        \n",
    "        if match:\n",
    "            value = match.group(1).strip()\n",
    "            solr_key = doc_tpl[key]\n",
    "            doc.update({solr_key: value})\n",
    "\n",
    "    # ensures we have all keys..\n",
    "    for key in doc_tpl.values():\n",
    "        assert(doc[key] is not None)\n",
    "\n",
    "    return doc\n"
   ]
  },
  {
   "cell_type": "markdown",
   "metadata": {},
   "source": [
    "## Testando várias maneiras diferentes de fazer a query na API do Solr..."
   ]
  },
  {
   "cell_type": "code",
   "execution_count": 89,
   "metadata": {
    "collapsed": false,
    "scrolled": false
   },
   "outputs": [
    {
     "data": {
      "text/html": [
       "<table>\n",
       "<tbody>\n",
       "<tr><td>         </td><td>Medicina alternativa                                                             </td></tr>\n",
       "<tr><td># Results</td><td>Parameters                                                                       </td></tr>\n",
       "<tr><td>2        </td><td>{'q': 'text_txt_pt:\"Medicina alternativa\"'}                                      </td></tr>\n",
       "<tr><td>2616     </td><td>{'q': 'text_txt_pt:Medicina text_txt_pt:alternativa', 'q.op': 'OR'}              </td></tr>\n",
       "<tr><td>41       </td><td>{'q': 'text_txt_pt:Medicina text_txt_pt:alternativa', 'q.op': 'AND'}             </td></tr>\n",
       "<tr><td>41       </td><td>{'q': '+text_txt_pt:Medicina +text_txt_pt:alternativa'}                          </td></tr>\n",
       "<tr><td>         </td><td>                                                                                 </td></tr>\n",
       "<tr><td>2        </td><td>{'q': '*:*', 'fq': 'text_txt_pt:\"Medicina alternativa\"'}                         </td></tr>\n",
       "<tr><td>2616     </td><td>{'q': '*:*', 'q.op': 'OR', 'fq': 'text_txt_pt:Medicina text_txt_pt:alternativa'} </td></tr>\n",
       "<tr><td>41       </td><td>{'q': '*:*', 'q.op': 'AND', 'fq': 'text_txt_pt:Medicina text_txt_pt:alternativa'}</td></tr>\n",
       "<tr><td>41       </td><td>{'q': '*:*', 'fq': '+text_txt_pt:Medicina +text_txt_pt:alternativa'}             </td></tr>\n",
       "<tr><td>         </td><td>                                                                                 </td></tr>\n",
       "<tr><td>2        </td><td>{'q': '\"Medicina alternativa\"', 'df': 'text_txt_pt'}                             </td></tr>\n",
       "<tr><td>2616     </td><td>{'df': 'text_txt_pt', 'q': 'Medicina alternativa', 'q.op': 'OR'}                 </td></tr>\n",
       "<tr><td>41       </td><td>{'df': 'text_txt_pt', 'q': 'Medicina alternativa', 'q.op': 'AND'}                </td></tr>\n",
       "<tr><td>41       </td><td>{'q': '+Medicina +alternativa', 'df': 'text_txt_pt'}                             </td></tr>\n",
       "</tbody>\n",
       "</table>"
      ],
      "text/plain": [
       "<IPython.core.display.HTML object>"
      ]
     },
     "metadata": {},
     "output_type": "display_data"
    },
    {
     "data": {
      "text/html": [
       "<table>\n",
       "<tbody>\n",
       "<tr><td>         </td><td>Sistemas de reforma e pensões na Europa                                                                                                                         </td></tr>\n",
       "<tr><td># Results</td><td>Parameters                                                                                                                                                      </td></tr>\n",
       "<tr><td>0        </td><td>{'q': 'text_txt_pt:\"Sistemas de reforma e pensões na Europa\"'}                                                                                                  </td></tr>\n",
       "<tr><td>11409    </td><td>{'q': 'text_txt_pt:Sistemas text_txt_pt:de text_txt_pt:reforma text_txt_pt:e text_txt_pt:pensões text_txt_pt:na text_txt_pt:Europa', 'q.op': 'OR'}              </td></tr>\n",
       "<tr><td>0        </td><td>{'q': 'text_txt_pt:Sistemas text_txt_pt:de text_txt_pt:reforma text_txt_pt:e text_txt_pt:pensões text_txt_pt:na text_txt_pt:Europa', 'q.op': 'AND'}             </td></tr>\n",
       "<tr><td>0        </td><td>{'q': '+text_txt_pt:Sistemas +text_txt_pt:de +text_txt_pt:reforma +text_txt_pt:e +text_txt_pt:pensões +text_txt_pt:na +text_txt_pt:Europa'}                     </td></tr>\n",
       "<tr><td>         </td><td>                                                                                                                                                                </td></tr>\n",
       "<tr><td>0        </td><td>{'q': '*:*', 'fq': 'text_txt_pt:\"Sistemas de reforma e pensões na Europa\"'}                                                                                     </td></tr>\n",
       "<tr><td>11409    </td><td>{'q': '*:*', 'q.op': 'OR', 'fq': 'text_txt_pt:Sistemas text_txt_pt:de text_txt_pt:reforma text_txt_pt:e text_txt_pt:pensões text_txt_pt:na text_txt_pt:Europa'} </td></tr>\n",
       "<tr><td>0        </td><td>{'q': '*:*', 'q.op': 'AND', 'fq': 'text_txt_pt:Sistemas text_txt_pt:de text_txt_pt:reforma text_txt_pt:e text_txt_pt:pensões text_txt_pt:na text_txt_pt:Europa'}</td></tr>\n",
       "<tr><td>0        </td><td>{'q': '*:*', 'fq': '+text_txt_pt:Sistemas +text_txt_pt:de +text_txt_pt:reforma +text_txt_pt:e +text_txt_pt:pensões +text_txt_pt:na +text_txt_pt:Europa'}        </td></tr>\n",
       "<tr><td>         </td><td>                                                                                                                                                                </td></tr>\n",
       "<tr><td>0        </td><td>{'q': '\"Sistemas de reforma e pensões na Europa\"', 'df': 'text_txt_pt'}                                                                                         </td></tr>\n",
       "<tr><td>11409    </td><td>{'df': 'text_txt_pt', 'q': 'Sistemas de reforma e pensões na Europa', 'q.op': 'OR'}                                                                             </td></tr>\n",
       "<tr><td>0        </td><td>{'df': 'text_txt_pt', 'q': 'Sistemas de reforma e pensões na Europa', 'q.op': 'AND'}                                                                            </td></tr>\n",
       "<tr><td>0        </td><td>{'q': '+Sistemas +de +reforma +e +pensões +na +Europa', 'df': 'text_txt_pt'}                                                                                    </td></tr>\n",
       "</tbody>\n",
       "</table>"
      ],
      "text/plain": [
       "<IPython.core.display.HTML object>"
      ]
     },
     "metadata": {},
     "output_type": "display_data"
    },
    {
     "name": "stdout",
     "output_type": "stream",
     "text": [
      "The end\n"
     ]
    }
   ],
   "source": [
    "def query(params):\n",
    "    result = sq.search(**params)\n",
    "    result_lines.append([result.hits, params])\n",
    "\n",
    "\n",
    "sq = pysolr.Solr(SOLR_URL)\n",
    "\n",
    "\n",
    "queries = parse_file(QUERIES_FILE_PATH, 'top')\n",
    "\n",
    "# Vamos testar só com as duas primeiras\n",
    "queries = queries[:2]\n",
    "\n",
    "for q in queries:\n",
    "    \n",
    "    result_lines = []\n",
    "    title = q[\"title\"]\n",
    "\n",
    "    # query inteira e entre aspas, precedida pelo nome do campo (\"text_txt_pt:\")\n",
    "    quoted_query = 'text_txt_pt:\"%s\"' % title\n",
    "\n",
    "    # cada termo da query precedido pelo nome do campo\n",
    "    parts = [\"text_txt_pt:%s\" % p for p in title.split(' ')]\n",
    "    unquoted_query = '%s' % ' '.join(parts)\n",
    "\n",
    "    # cada termo da query precedido por \"+text_txt_pt:\" (repare o sinal +)\n",
    "    parts = [\"+text_txt_pt:%s\" % p for p in title.split(' ')]\n",
    "    plus_query = '%s' % ' '.join(parts)\n",
    "\n",
    "    \n",
    "    # default field\n",
    "    default_field = \"text_txt_pt\"\n",
    "    \n",
    "    # query inteira e entre aspas (sem o nome do campo)\n",
    "    quoted_query_df = '\"%s\"' % title\n",
    "\n",
    "    # query inteira e sem as aspas\n",
    "    unquoted_query_df = title\n",
    "\n",
    "    # cada termo da query precedido só pelo sinal de +\n",
    "    parts = [\"+%s\" % p for p in title.split(' ')]\n",
    "    plus_query_df = '%s' % ' '.join(parts)\n",
    "\n",
    "\n",
    "    # cabeçalho da tabela\n",
    "    result_lines.append([None, title])\n",
    "    result_lines.append(['# Results', 'Parameters'])\n",
    "\n",
    "    ##\n",
    "    ## Usando o parâmetro query \n",
    "    ##\n",
    "    query({\n",
    "        \"q\": quoted_query\n",
    "    })\n",
    "\n",
    "    query({\n",
    "        \"q\": unquoted_query,\n",
    "        \"q.op\": \"OR\"\n",
    "    })\n",
    "    \n",
    "    query({\n",
    "        \"q\": unquoted_query,\n",
    "        \"q.op\": \"AND\"\n",
    "    })\n",
    "\n",
    "    query({\n",
    "        \"q\": plus_query\n",
    "    })\n",
    "\n",
    "\n",
    "    # linha em branco na tabela\n",
    "    result_lines.append([None,None])\n",
    "\n",
    "    ##\n",
    "    ## Usando filter query\n",
    "    ##\n",
    "    query({\n",
    "        \"q\": \"*:*\",\n",
    "        \"fq\": quoted_query\n",
    "    })\n",
    "\n",
    "    query({\n",
    "        \"q\": \"*:*\",\n",
    "        \"q.op\": \"OR\",\n",
    "        \"fq\": unquoted_query,\n",
    "    })\n",
    "\n",
    "    query({\n",
    "        \"q\": \"*:*\",\n",
    "        \"q.op\": \"AND\",\n",
    "        \"fq\": unquoted_query,\n",
    "    })\n",
    "\n",
    "    query({\n",
    "        \"q\": \"*:*\",\n",
    "        \"fq\": plus_query,\n",
    "    })\n",
    "\n",
    "\n",
    "    # linha em branco na tabela\n",
    "    result_lines.append([None,None])\n",
    "\n",
    "    ##\n",
    "    ## Usando default field\n",
    "    ##\n",
    "\n",
    "    query({\n",
    "        \"q\": quoted_query_df,\n",
    "        \"df\": default_field,\n",
    "    })\n",
    "\n",
    "    query({\n",
    "        \"q\": unquoted_query_df,\n",
    "        \"q.op\": \"OR\",\n",
    "        \"df\": default_field,\n",
    "    })\n",
    "\n",
    "    query({\n",
    "        \"q\": unquoted_query_df,\n",
    "        \"q.op\": \"AND\",\n",
    "        \"df\": default_field,\n",
    "    })\n",
    "    \n",
    "    query({\n",
    "        \"q\": plus_query_df,\n",
    "        \"df\": default_field,\n",
    "    })\n",
    "\n",
    "    display(HTML(tabulate.tabulate(result_lines, tablefmt='html')))\n",
    "\n",
    "print(\"The end\")"
   ]
  },
  {
   "cell_type": "markdown",
   "metadata": {
    "collapsed": true
   },
   "source": [
    "## Escolhendo um jeito...\n",
    "\n",
    "Dá pra ver que há vários jeitos de fazer a mesma query...\n",
    "Escolhendo uma das opções que traz pelo menos um resultado ambas as queries:\n",
    "\n",
    "* Sem aspas\n",
    "* Usando o operador OR\n",
    "* Indicando o default_field\n",
    "\n",
    "Ex:\n",
    "\n",
    "```python\n",
    "{\n",
    "    'df': 'text_txt_pt', \n",
    "    'q': 'Centrais nucleares', \n",
    "    'q.op': 'OR'\n",
    "}\n",
    "```\n",
    "\n",
    "\n"
   ]
  },
  {
   "cell_type": "code",
   "execution_count": 90,
   "metadata": {
    "collapsed": false
   },
   "outputs": [
    {
     "data": {
      "text/html": [
       "<table>\n",
       "<tbody>\n",
       "<tr><td># Results</td><td>query                                         </td></tr>\n",
       "<tr><td>2616     </td><td>Medicina alternativa                          </td></tr>\n",
       "<tr><td>11409    </td><td>Sistemas de reforma e pensões na Europa       </td></tr>\n",
       "<tr><td>10121    </td><td>Países com pena de morte                      </td></tr>\n",
       "<tr><td>1406     </td><td>Danos provocados por terramotos               </td></tr>\n",
       "<tr><td>964      </td><td>Viciados na Internet                          </td></tr>\n",
       "<tr><td>1218     </td><td>Doença de Creutzfeldt-Jakob                   </td></tr>\n",
       "<tr><td>1209     </td><td>Limpeza étnica nos Balcãs                     </td></tr>\n",
       "<tr><td>1940     </td><td>Legislação anti-tabagista                     </td></tr>\n",
       "<tr><td>12       </td><td>Adivinhação                                   </td></tr>\n",
       "<tr><td>2        </td><td>Espectáculos de beneficiência                 </td></tr>\n",
       "<tr><td>3160     </td><td>Disputas de arbitragem no futebol             </td></tr>\n",
       "<tr><td>2065     </td><td>Contrabando de material radioativo            </td></tr>\n",
       "<tr><td>654      </td><td>Aquisições do Deutsche Bank                   </td></tr>\n",
       "<tr><td>12287    </td><td>Discriminação contra os ciganos na Europa     </td></tr>\n",
       "<tr><td>12510    </td><td>Melhor Filme Estrangeiro                      </td></tr>\n",
       "<tr><td>3418     </td><td>Ética e a Clonagem Humana                     </td></tr>\n",
       "<tr><td>781      </td><td>Concorrentes da Microsoft                     </td></tr>\n",
       "<tr><td>1100     </td><td>Casamentos Gays                               </td></tr>\n",
       "<tr><td>15562    </td><td>Biografia do presidente checo                 </td></tr>\n",
       "<tr><td>926      </td><td>Expansão da OTAN                              </td></tr>\n",
       "<tr><td>24389    </td><td>Bombas não detonadas da Segunda Guerra Mundial</td></tr>\n",
       "<tr><td>2033     </td><td>Doenças relacionadas ao fumo                  </td></tr>\n",
       "<tr><td>1193     </td><td>Subsídios agrícolas da UE                     </td></tr>\n",
       "<tr><td>5358     </td><td>Eutanásia por profissionais da saúde          </td></tr>\n",
       "<tr><td>1650     </td><td>Transporte para deficientes                   </td></tr>\n",
       "<tr><td>13621    </td><td>Crime em Nova York                            </td></tr>\n",
       "<tr><td>80       </td><td>Radovan Karadzic                              </td></tr>\n",
       "<tr><td>5234     </td><td>Maus-tratos nas prisões                       </td></tr>\n",
       "<tr><td>7610     </td><td>Filmes da série James Bond                    </td></tr>\n",
       "<tr><td>1061     </td><td>Missões do vaivém espacial                    </td></tr>\n",
       "<tr><td>4598     </td><td>Movimentos anti-aborto                        </td></tr>\n",
       "<tr><td>1959     </td><td>Lesões no futebol                             </td></tr>\n",
       "<tr><td>5552     </td><td>Ações terroristas com reféns                  </td></tr>\n",
       "<tr><td>10516    </td><td>Importações de carros para os EUA             </td></tr>\n",
       "<tr><td>6362     </td><td>Flutuação do preço do petróleo                </td></tr>\n",
       "<tr><td>9542     </td><td>Reconstrução de cidades alemãs                </td></tr>\n",
       "<tr><td>8069     </td><td>Relações entre a China e a Formosa            </td></tr>\n",
       "<tr><td>3807     </td><td>Força dos furações                            </td></tr>\n",
       "<tr><td>5861     </td><td>Centrais nucleares                            </td></tr>\n",
       "<tr><td>6835     </td><td>Riscos das missões de manutenção de paz da ONU</td></tr>\n",
       "<tr><td>1503     </td><td>Prémios na lotaria                            </td></tr>\n",
       "</tbody>\n",
       "</table>"
      ],
      "text/plain": [
       "<IPython.core.display.HTML object>"
      ]
     },
     "metadata": {},
     "output_type": "display_data"
    },
    {
     "name": "stdout",
     "output_type": "stream",
     "text": [
      "The end\n"
     ]
    }
   ],
   "source": [
    "sq = pysolr.Solr(SOLR_URL)\n",
    "\n",
    "result_lines = []\n",
    "result_lines.append(['# Results', 'query'])\n",
    "\n",
    "queries = parse_file(QUERIES_FILE_PATH, 'top')\n",
    "for q in queries:\n",
    "\n",
    "    title = q[\"title\"]\n",
    "\n",
    "    params = {\n",
    "        \"q\": title,\n",
    "        \"q.op\": \"OR\",\n",
    "        \"df\": \"text_txt_pt\",\n",
    "    }\n",
    "    \n",
    "    result = sq.search(**params)\n",
    "    result_lines.append([result.hits, title])\n",
    "    \n",
    "    result = None\n",
    "    \n",
    "display(HTML(tabulate.tabulate(result_lines, tablefmt='html')))\n",
    "\n",
    "print(\"The end\")"
   ]
  },
  {
   "cell_type": "code",
   "execution_count": null,
   "metadata": {
    "collapsed": true
   },
   "outputs": [],
   "source": []
  }
 ],
 "metadata": {
  "kernelspec": {
   "display_name": "Python 3",
   "language": "python",
   "name": "python3"
  },
  "language_info": {
   "codemirror_mode": {
    "name": "ipython",
    "version": 3
   },
   "file_extension": ".py",
   "mimetype": "text/x-python",
   "name": "python",
   "nbconvert_exporter": "python",
   "pygments_lexer": "ipython3",
   "version": "3.4.0"
  }
 },
 "nbformat": 4,
 "nbformat_minor": 0
}
